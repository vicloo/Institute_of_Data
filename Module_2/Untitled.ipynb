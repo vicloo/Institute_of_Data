{
 "cells": [
  {
   "cell_type": "code",
   "execution_count": 1,
   "id": "f94e0062",
   "metadata": {},
   "outputs": [
    {
     "name": "stdout",
     "output_type": "stream",
     "text": [
      "Collecting pandas-profiling\n",
      "  Downloading pandas_profiling-3.0.0-py2.py3-none-any.whl (248 kB)\n",
      "Requirement already satisfied: matplotlib>=3.2.0 in c:\\users\\victo\\anaconda3\\lib\\site-packages (from pandas-profiling) (3.3.4)\n",
      "Collecting tangled-up-in-unicode==0.1.0\n",
      "  Downloading tangled_up_in_unicode-0.1.0-py3-none-any.whl (3.1 MB)\n",
      "Collecting missingno>=0.4.2\n",
      "  Downloading missingno-0.5.0-py3-none-any.whl (8.8 kB)\n",
      "Collecting visions[type_image_path]==0.7.1\n",
      "  Downloading visions-0.7.1-py3-none-any.whl (102 kB)\n",
      "Requirement already satisfied: numpy>=1.16.0 in c:\\users\\victo\\anaconda3\\lib\\site-packages (from pandas-profiling) (1.20.1)\n",
      "Requirement already satisfied: scipy>=1.4.1 in c:\\users\\victo\\anaconda3\\lib\\site-packages (from pandas-profiling) (1.6.2)\n",
      "Collecting htmlmin>=0.1.12\n",
      "  Downloading htmlmin-0.1.12.tar.gz (19 kB)\n",
      "Requirement already satisfied: seaborn>=0.10.1 in c:\\users\\victo\\anaconda3\\lib\\site-packages (from pandas-profiling) (0.11.1)\n",
      "Requirement already satisfied: PyYAML>=5.0.0 in c:\\users\\victo\\anaconda3\\lib\\site-packages (from pandas-profiling) (5.4.1)\n",
      "Collecting phik>=0.11.1\n",
      "  Downloading phik-0.11.2.tar.gz (1.1 MB)\n",
      "Requirement already satisfied: tqdm>=4.48.2 in c:\\users\\victo\\anaconda3\\lib\\site-packages (from pandas-profiling) (4.59.0)\n",
      "Requirement already satisfied: joblib in c:\\users\\victo\\anaconda3\\lib\\site-packages (from pandas-profiling) (1.0.1)\n",
      "Requirement already satisfied: jinja2>=2.11.1 in c:\\users\\victo\\anaconda3\\lib\\site-packages (from pandas-profiling) (2.11.3)\n",
      "Requirement already satisfied: pandas!=1.0.0,!=1.0.1,!=1.0.2,!=1.1.0,>=0.25.3 in c:\\users\\victo\\anaconda3\\lib\\site-packages (from pandas-profiling) (1.2.4)\n",
      "Collecting pydantic>=1.8.1\n",
      "  Downloading pydantic-1.8.2-cp38-cp38-win_amd64.whl (2.0 MB)\n",
      "Requirement already satisfied: requests>=2.24.0 in c:\\users\\victo\\anaconda3\\lib\\site-packages (from pandas-profiling) (2.25.1)\n",
      "Collecting multimethod==1.4\n",
      "  Downloading multimethod-1.4-py2.py3-none-any.whl (7.3 kB)\n",
      "Requirement already satisfied: attrs>=19.3.0 in c:\\users\\victo\\anaconda3\\lib\\site-packages (from visions[type_image_path]==0.7.1->pandas-profiling) (20.3.0)\n",
      "Requirement already satisfied: networkx>=2.4 in c:\\users\\victo\\anaconda3\\lib\\site-packages (from visions[type_image_path]==0.7.1->pandas-profiling) (2.5)\n",
      "Requirement already satisfied: bottleneck in c:\\users\\victo\\anaconda3\\lib\\site-packages (from visions[type_image_path]==0.7.1->pandas-profiling) (1.3.2)\n",
      "Requirement already satisfied: Pillow in c:\\users\\victo\\anaconda3\\lib\\site-packages (from visions[type_image_path]==0.7.1->pandas-profiling) (8.2.0)\n",
      "Collecting imagehash\n",
      "  Downloading ImageHash-4.2.0-py2.py3-none-any.whl (295 kB)\n",
      "Requirement already satisfied: MarkupSafe>=0.23 in c:\\users\\victo\\anaconda3\\lib\\site-packages (from jinja2>=2.11.1->pandas-profiling) (1.1.1)\n",
      "Requirement already satisfied: cycler>=0.10 in c:\\users\\victo\\anaconda3\\lib\\site-packages (from matplotlib>=3.2.0->pandas-profiling) (0.10.0)\n",
      "Requirement already satisfied: python-dateutil>=2.1 in c:\\users\\victo\\anaconda3\\lib\\site-packages (from matplotlib>=3.2.0->pandas-profiling) (2.8.1)\n",
      "Requirement already satisfied: kiwisolver>=1.0.1 in c:\\users\\victo\\anaconda3\\lib\\site-packages (from matplotlib>=3.2.0->pandas-profiling) (1.3.1)\n",
      "Requirement already satisfied: pyparsing!=2.0.4,!=2.1.2,!=2.1.6,>=2.0.3 in c:\\users\\victo\\anaconda3\\lib\\site-packages (from matplotlib>=3.2.0->pandas-profiling) (2.4.7)\n",
      "Requirement already satisfied: six in c:\\users\\victo\\anaconda3\\lib\\site-packages (from cycler>=0.10->matplotlib>=3.2.0->pandas-profiling) (1.15.0)\n",
      "Requirement already satisfied: decorator>=4.3.0 in c:\\users\\victo\\anaconda3\\lib\\site-packages (from networkx>=2.4->visions[type_image_path]==0.7.1->pandas-profiling) (5.0.6)\n",
      "Requirement already satisfied: pytz>=2017.3 in c:\\users\\victo\\anaconda3\\lib\\site-packages (from pandas!=1.0.0,!=1.0.1,!=1.0.2,!=1.1.0,>=0.25.3->pandas-profiling) (2021.1)\n",
      "Requirement already satisfied: typing-extensions>=3.7.4.3 in c:\\users\\victo\\anaconda3\\lib\\site-packages (from pydantic>=1.8.1->pandas-profiling) (3.7.4.3)\n",
      "Requirement already satisfied: chardet<5,>=3.0.2 in c:\\users\\victo\\anaconda3\\lib\\site-packages (from requests>=2.24.0->pandas-profiling) (4.0.0)\n",
      "Requirement already satisfied: certifi>=2017.4.17 in c:\\users\\victo\\anaconda3\\lib\\site-packages (from requests>=2.24.0->pandas-profiling) (2020.12.5)\n",
      "Note: you may need to restart the kernel to use updated packages.\n",
      "Requirement already satisfied: urllib3<1.27,>=1.21.1 in c:\\users\\victo\\anaconda3\\lib\\site-packages (from requests>=2.24.0->pandas-profiling) (1.26.4)\n",
      "Requirement already satisfied: idna<3,>=2.5 in c:\\users\\victo\\anaconda3\\lib\\site-packages (from requests>=2.24.0->pandas-profiling) (2.10)\n",
      "Requirement already satisfied: PyWavelets in c:\\users\\victo\\anaconda3\\lib\\site-packages (from imagehash->visions[type_image_path]==0.7.1->pandas-profiling) (1.1.1)\n",
      "Building wheels for collected packages: htmlmin, phik\n",
      "  Building wheel for htmlmin (setup.py): started\n",
      "  Building wheel for htmlmin (setup.py): finished with status 'done'\n",
      "  Created wheel for htmlmin: filename=htmlmin-0.1.12-py3-none-any.whl size=27085 sha256=69df22c959d241ffd7414494fd263cf6d5365b697be7bcd23b5c8936dcb07a83\n",
      "  Stored in directory: c:\\users\\victo\\appdata\\local\\pip\\cache\\wheels\\23\\14\\6e\\4be5bfeeb027f4939a01764b48edd5996acf574b0913fe5243\n",
      "  Building wheel for phik (setup.py): started\n",
      "  Building wheel for phik (setup.py): finished with status 'done'\n",
      "  Created wheel for phik: filename=phik-0.11.2-py3-none-any.whl size=1107415 sha256=336593bc676b0f383f1a8a500b49a1f6719cd33e3dbd3ab8d5805daa0a396c80\n",
      "  Stored in directory: c:\\users\\victo\\appdata\\local\\pip\\cache\\wheels\\72\\9a\\23\\097c93fd8341220d92674891b6a9a30f0e389719d9b7291bd2\n",
      "Successfully built htmlmin phik\n",
      "Installing collected packages: tangled-up-in-unicode, multimethod, visions, imagehash, pydantic, phik, missingno, htmlmin, pandas-profiling\n",
      "Successfully installed htmlmin-0.1.12 imagehash-4.2.0 missingno-0.5.0 multimethod-1.4 pandas-profiling-3.0.0 phik-0.11.2 pydantic-1.8.2 tangled-up-in-unicode-0.1.0 visions-0.7.1\n"
     ]
    }
   ],
   "source": [
    "pip install pandas-profiling"
   ]
  },
  {
   "cell_type": "code",
   "execution_count": null,
   "id": "bae935f7",
   "metadata": {},
   "outputs": [],
   "source": []
  }
 ],
 "metadata": {
  "kernelspec": {
   "display_name": "Python 3",
   "language": "python",
   "name": "python3"
  },
  "language_info": {
   "codemirror_mode": {
    "name": "ipython",
    "version": 3
   },
   "file_extension": ".py",
   "mimetype": "text/x-python",
   "name": "python",
   "nbconvert_exporter": "python",
   "pygments_lexer": "ipython3",
   "version": "3.8.8"
  }
 },
 "nbformat": 4,
 "nbformat_minor": 5
}
