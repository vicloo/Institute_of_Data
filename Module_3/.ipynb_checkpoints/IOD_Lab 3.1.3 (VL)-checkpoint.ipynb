{
 "cells": [
  {
   "cell_type": "markdown",
   "metadata": {
    "colab_type": "text",
    "id": "O4slJmP6lJPO"
   },
   "source": [
    "<div>\n",
    "<img src=https://www.institutedata.com/wp-content/uploads/2019/10/iod_h_tp_primary_c.svg width=\"300\">\n",
    "</div>"
   ]
  },
  {
   "cell_type": "markdown",
   "metadata": {
    "colab_type": "text",
    "id": "YgGme6aRlJPT"
   },
   "source": [
    "# Lab 3.1.3: \n",
    "# *Database Programming with Python and SQLite*"
   ]
  },
  {
   "cell_type": "markdown",
   "metadata": {
    "colab_type": "text",
    "id": "qv6NIGfOlJPW"
   },
   "source": [
    "<a name=\"demo\"></a>\n",
    "## Using SQLite\n",
    "\n",
    "### Advantages of SQLite\n",
    "\n",
    "- does not run on a separate server\n",
    "- creates portable SQL databases saved in a single file\n",
    "- databases are stored in a very efficient manner and allow fast querying\n",
    "- ideal for small databases or databases that need to be copied across machines.\n",
    "- prototyping applications (e.g. as an embedded database server in a Python program).\n",
    "\n"
   ]
  },
  {
   "cell_type": "markdown",
   "metadata": {
    "colab_type": "text",
    "id": "IHIaKfRelJPc"
   },
   "source": [
    "### The `sqlite3` Command Line Utility\n",
    "\n",
    "- useful for basic SQL tasks and databse maintenance\n",
    "- for creating and dropping databases, it may be safer to use the command line than to roll the code into a Python program"
   ]
  },
  {
   "cell_type": "markdown",
   "metadata": {
    "colab_type": "text",
    "id": "adOx7ovjlJPf"
   },
   "source": [
    "1. Add the sqlite3 installation folder to your PATH environment variable.\n",
    "2. Open a command window.\n",
    "3. Navigate to your preferred working directory.\n",
    "4. Start the sqlite3 command line utility and create a database called \"ex1\":\n",
    "\n",
    "`$ sqlite3 ex1`\n",
    "\n",
    "Output:  \n",
    "\n",
    "`SQLite version 3.8.5 2014-05-29 12:36:14\n",
    "Enter \".help\" for usage hints.\n",
    "sqlite>`\n",
    "\n",
    "*Nb. If you leave out the database name (after `sqlite3`, above) a new, temporary database will be created; it will be destroyed upon exiting sqlite3.*  \n"
   ]
  },
  {
   "cell_type": "markdown",
   "metadata": {
    "colab_type": "text",
    "id": "nuPeNybYlJPj"
   },
   "source": [
    "Enter the following commands at the sqlite prompt (not shown):\n",
    "\n",
    "`create table tbl1(one varchar(10), two smallint);\n",
    "insert into tbl1 values('hello!',10);\n",
    "insert into tbl1 values('goodbye', 20);\n",
    "select * from tbl1;`\n",
    "\n",
    "Output:  \n",
    "\n",
    "`hello!|10\n",
    "goodbye|20`"
   ]
  },
  {
   "cell_type": "markdown",
   "metadata": {
    "colab_type": "text",
    "id": "G7c-GNh_lJPl"
   },
   "source": [
    "Enter `.help` at the sqlite3 command prompt. This lists the available \"dot commands\". \n",
    "\n",
    "Some of the more useful dot commands include:\n",
    "\n",
    "`  \n",
    ".backup ?DB? FILE      Backup DB (default \"main\") to FILE.\n",
    ".cd DIRECTORY          Change the working directory to DIRECTORY\n",
    ".clone NEWDB           Clone data into NEWDB from the existing database\n",
    ".databases             List names and files of attached databases\n",
    ".dump ?TABLE? ...      Dump the database in an SQL text format.\n",
    ".excel                 Display the output of next command in a spreadsheet\n",
    ".exit                  Exit this program\n",
    ".headers on|off        Turn display of headers on or off\n",
    ".help                  Show this message\n",
    ".import FILE TABLE     Import data from FILE into TABLE\n",
    ".indexes ?TABLE?       Show names of all indexes.\n",
    ".quit                  Exit this program\n",
    ".read FILENAME         Execute SQL in FILENAME\n",
    ".restore ?DB? FILE     Restore content of DB (default \"main\") from FILE\n",
    ".save FILE             Write in-memory database into FILE\n",
    ".tables ?TABLE?        List names of tables.`\n"
   ]
  },
  {
   "cell_type": "markdown",
   "metadata": {
    "colab_type": "text",
    "id": "UGuSmoHMlJPn"
   },
   "source": [
    "### The `sqlite3` package\n",
    "\n",
    "The easiest way to incorporate an SQL database into a Python application is by using the `sqlite3` package for [`Python 2.7`](https://docs.python.org/2.7/library/sqlite3.html) or [`Python 3.x`](https://docs.python.org/3/library/sqlite3.html).\n",
    "\n",
    "Open a connection to an SQLite database file.  As before, if the file does not already exist it will automatically be created."
   ]
  },
  {
   "cell_type": "code",
   "execution_count": 1,
   "metadata": {
    "ExecuteTime": {
     "end_time": "2019-03-21T02:45:26.790620Z",
     "start_time": "2019-03-21T02:45:26.783638Z"
    },
    "colab": {},
    "colab_type": "code",
    "id": "kDA5eAPilJPo"
   },
   "outputs": [],
   "source": [
    "import sqlite3\n",
    "sqlite_db = 'test_db.sqlite'\n",
    "conn = sqlite3.connect(sqlite_db) \n",
    "c = conn.cursor()"
   ]
  },
  {
   "cell_type": "markdown",
   "metadata": {
    "colab_type": "text",
    "id": "SbbON3DXlJPt"
   },
   "source": [
    "Commands can be executed by passing them as string arguments to the `execute` method of the cursor we just created for this database."
   ]
  },
  {
   "cell_type": "markdown",
   "metadata": {
    "colab_type": "text",
    "id": "9YezTIZxlJPu"
   },
   "source": [
    "*Nb. If this script has never been run before, the following will raise an (inconsequential) error message:*"
   ]
  },
  {
   "cell_type": "code",
   "execution_count": 0,
   "metadata": {
    "ExecuteTime": {
     "end_time": "2019-03-21T02:53:18.454636Z",
     "start_time": "2019-03-21T02:53:18.434692Z"
    },
    "colab": {},
    "colab_type": "code",
    "id": "vf0t6T2mlJPw"
   },
   "outputs": [],
   "source": [
    "#c.execute('DROP TABLE houses;')\n",
    "\n",
    "# Save (commit) the changes:\n",
    "conn.commit()"
   ]
  },
  {
   "cell_type": "code",
   "execution_count": 2,
   "metadata": {
    "ExecuteTime": {
     "end_time": "2019-03-21T02:53:29.356866Z",
     "start_time": "2019-03-21T02:53:29.332924Z"
    },
    "colab": {},
    "colab_type": "code",
    "id": "jSfkJrVWlJPz"
   },
   "outputs": [],
   "source": [
    "c.execute('CREATE TABLE houses (field1 INTEGER PRIMARY KEY, sqft INTEGER, bdrms INTEGER, age INTEGER, price INTEGER);')\n",
    "conn.commit()"
   ]
  },
  {
   "cell_type": "markdown",
   "metadata": {
    "colab_type": "text",
    "id": "_BWciGvRlJP3"
   },
   "source": [
    "With the database saved the table should now be viewable using SQLite Manager.\n",
    "\n",
    "#### Adding data\n",
    "\n",
    "Since we're back in python, we can now use regular programming techniques in conjunction with the sqlite connection.  In particular, the cursor's `execute()` method supports value substitution using the `?` character, which makes adding multiple records a bit easier.  See the [docs](https://docs.python.org/2.7/library/sqlite3.html) for more details.\n",
    "\n",
    "> c.execute(sql_command, values)"
   ]
  },
  {
   "cell_type": "code",
   "execution_count": 4,
   "metadata": {
    "ExecuteTime": {
     "end_time": "2019-03-21T02:53:32.085517Z",
     "start_time": "2019-03-21T02:53:32.065541Z"
    },
    "colab": {},
    "colab_type": "code",
    "id": "EFU0wSP1lJP4"
   },
   "outputs": [],
   "source": [
    "# A\n",
    "last_sale = (None, 4000, 5, 22, 619000)\n",
    "\n",
    "# Execute Command\n",
    "c.execute('INSERT INTO houses VALUES (?,?,?,?,?)', last_sale)\n",
    "\n",
    "# Remember to commit the changes\n",
    "conn.commit()"
   ]
  },
  {
   "cell_type": "code",
   "execution_count": 5,
   "metadata": {},
   "outputs": [
    {
     "data": {
      "text/plain": [
       "[(1, 4000, 5, 22, 619000)]"
      ]
     },
     "execution_count": 5,
     "metadata": {},
     "output_type": "execute_result"
    }
   ],
   "source": [
    "c.execute('SELECT * FROM houses').fetchall()"
   ]
  },
  {
   "cell_type": "markdown",
   "metadata": {
    "colab_type": "text",
    "id": "t7h9HnjDlJP7"
   },
   "source": [
    "Notice that in this syntax we use the python `None` value, rather than `NULL`, to trigger SQLite to auto-increment the Primary Key. \n",
    "\n",
    "There is a related cursor method `executemany()` which takes an array of tuples and loops through them, substituting one tuple at a time.\n",
    "\n",
    "> c.executemany(sql_command, values)"
   ]
  },
  {
   "cell_type": "code",
   "execution_count": 6,
   "metadata": {
    "ExecuteTime": {
     "end_time": "2019-03-21T02:53:39.925817Z",
     "start_time": "2019-03-21T02:53:39.899884Z"
    },
    "colab": {},
    "colab_type": "code",
    "id": "MA2Xia7IlJP8"
   },
   "outputs": [],
   "source": [
    "# A\n",
    "recent_sales = [\n",
    "  (None, 2390, 4, 34, 319000),\n",
    "  (None, 1870, 3, 14, 289000),\n",
    "  (None, 1505, 3, 90, 269000),\n",
    "]\n",
    "\n",
    "# Nb. The \"?\" parameters are placeholders for data that will map to the table columns during insertion;\n",
    "# this is a security measure against SQL injection attacks:\n",
    "\n",
    "c.executemany('INSERT INTO houses VALUES (?,?,?,?,?)', recent_sales)\n",
    "\n",
    "conn.commit()"
   ]
  },
  {
   "cell_type": "code",
   "execution_count": 7,
   "metadata": {},
   "outputs": [
    {
     "data": {
      "text/plain": [
       "[(1, 4000, 5, 22, 619000),\n",
       " (2, 2390, 4, 34, 319000),\n",
       " (3, 1870, 3, 14, 289000),\n",
       " (4, 1505, 3, 90, 269000)]"
      ]
     },
     "execution_count": 7,
     "metadata": {},
     "output_type": "execute_result"
    }
   ],
   "source": [
    "c.execute('SELECT * FROM houses').fetchall()"
   ]
  },
  {
   "cell_type": "markdown",
   "metadata": {
    "colab_type": "text",
    "id": "4re-XRYUlAj7"
   },
   "source": [
    "Select all rows from houses"
   ]
  },
  {
   "cell_type": "code",
   "execution_count": 0,
   "metadata": {
    "ExecuteTime": {
     "end_time": "2019-03-21T02:53:42.873911Z",
     "start_time": "2019-03-21T02:53:42.860919Z"
    },
    "colab": {},
    "colab_type": "code",
    "id": "aQPGUlLZlJP-"
   },
   "outputs": [],
   "source": [
    "# A"
   ]
  },
  {
   "cell_type": "markdown",
   "metadata": {
    "colab_type": "text",
    "id": "Rua_QrCClJQF"
   },
   "source": [
    "\n",
    "\n",
    "\n",
    "#### Adding data from a csv file\n",
    "One way to populate the database from a file is to use `numpy.genfromtxt` to read the file into an array (converted to a list for easier handling), and then `INSERT` those records into the database.  The `genfromtxt` function has options including the output data type, handling of missing values, skipping of header and footer rows, columns to read, and more. "
   ]
  },
  {
   "cell_type": "code",
   "execution_count": 8,
   "metadata": {
    "ExecuteTime": {
     "end_time": "2019-03-21T03:00:15.086181Z",
     "start_time": "2019-03-21T03:00:15.078202Z"
    },
    "colab": {},
    "colab_type": "code",
    "id": "DbzyW9LclJQG"
   },
   "outputs": [],
   "source": [
    "from numpy import genfromtxt\n",
    "\n",
    "# import into nparray of ints, then convert to list of lists:\n",
    "data = genfromtxt('C:/Users/victo/Documents/Institute_of_Data/DATA/housing-data.csv', dtype = 'i8', \n",
    "                    delimiter = ',', skip_header = 1).tolist()"
   ]
  },
  {
   "cell_type": "code",
   "execution_count": 9,
   "metadata": {},
   "outputs": [
    {
     "data": {
      "text/plain": [
       "[[2104, 3, 70, 399900],\n",
       " [1600, 3, 28, 329900],\n",
       " [2400, 3, 44, 369000],\n",
       " [1416, 2, 49, 232000],\n",
       " [3000, 4, 75, 539900],\n",
       " [1985, 4, 61, 299900],\n",
       " [1534, 3, 12, 314900],\n",
       " [1427, 3, 57, 198999],\n",
       " [1380, 3, 14, 212000],\n",
       " [1494, 3, 15, 242500]]"
      ]
     },
     "execution_count": 9,
     "metadata": {},
     "output_type": "execute_result"
    }
   ],
   "source": [
    "data[:10]"
   ]
  },
  {
   "cell_type": "code",
   "execution_count": null,
   "metadata": {},
   "outputs": [],
   "source": []
  },
  {
   "cell_type": "markdown",
   "metadata": {
    "colab_type": "text",
    "id": "rsYzLBGglJQI"
   },
   "source": [
    "Suppose we need to put a placeholder in the first column for data that will be available later. Best practice is to insert the value `None`:"
   ]
  },
  {
   "cell_type": "code",
   "execution_count": 10,
   "metadata": {
    "ExecuteTime": {
     "end_time": "2019-03-21T03:00:17.647051Z",
     "start_time": "2019-03-21T03:00:17.642063Z"
    },
    "colab": {},
    "colab_type": "code",
    "id": "IpIp0WZhlJQI"
   },
   "outputs": [],
   "source": [
    "# prepend a None value to beginning of each sub-list:\n",
    "for d in data:\n",
    "    d.insert(0, None)"
   ]
  },
  {
   "cell_type": "markdown",
   "metadata": {
    "colab_type": "text",
    "id": "FwHtbxRTlJQL"
   },
   "source": [
    "*Nb. This is why we converted the input array to a list. An array can only hold one type of data (integers in this case) so we could not have inserted `None` before we did this conversion.*"
   ]
  },
  {
   "cell_type": "code",
   "execution_count": 12,
   "metadata": {
    "ExecuteTime": {
     "end_time": "2019-03-21T03:00:20.313136Z",
     "start_time": "2019-03-21T03:00:20.306156Z"
    },
    "colab": {},
    "colab_type": "code",
    "id": "dpjV2gEIlJQL",
    "outputId": "553d1507-35e9-4682-fd2f-141d26513a2c"
   },
   "outputs": [
    {
     "name": "stdout",
     "output_type": "stream",
     "text": [
      "<class 'list'>\n",
      "[[None, 2104, 3, 70, 399900], [None, 1600, 3, 28, 329900], [None, 2400, 3, 44, 369000]]\n"
     ]
    }
   ],
   "source": [
    "# check:\n",
    "print(type(data))\n",
    "print(data[0:3])"
   ]
  },
  {
   "cell_type": "markdown",
   "metadata": {
    "colab_type": "text",
    "id": "2YuxctislJQP"
   },
   "source": [
    "Now we can insert each list item as a row of fields in the database."
   ]
  },
  {
   "cell_type": "code",
   "execution_count": 13,
   "metadata": {
    "ExecuteTime": {
     "end_time": "2019-03-21T03:00:23.383321Z",
     "start_time": "2019-03-21T03:00:23.360381Z"
    },
    "colab": {},
    "colab_type": "code",
    "id": "1X78UleXlJQP"
   },
   "outputs": [],
   "source": [
    "# loop through data, running an INSERT on each record (i.e. sublist):\n",
    "for d in data:\n",
    "    c.execute('INSERT INTO houses VALUES (?, ?, ?, ?, ?)', d)\n",
    "\n",
    "conn.commit()"
   ]
  },
  {
   "cell_type": "code",
   "execution_count": 18,
   "metadata": {},
   "outputs": [
    {
     "data": {
      "text/plain": [
       "[(1, 4000, 5, 22, 619000),\n",
       " (2, 2390, 4, 34, 319000),\n",
       " (3, 1870, 3, 14, 289000),\n",
       " (4, 1505, 3, 90, 269000),\n",
       " (5, 2104, 3, 70, 399900),\n",
       " (6, 1600, 3, 28, 329900),\n",
       " (7, 2400, 3, 44, 369000),\n",
       " (8, 1416, 2, 49, 232000),\n",
       " (9, 3000, 4, 75, 539900),\n",
       " (10, 1985, 4, 61, 299900),\n",
       " (11, 1534, 3, 12, 314900),\n",
       " (12, 1427, 3, 57, 198999),\n",
       " (13, 1380, 3, 14, 212000),\n",
       " (14, 1494, 3, 15, 242500),\n",
       " (15, 1940, 4, 7, 239999),\n",
       " (16, 2000, 3, 27, 347000),\n",
       " (17, 1890, 3, 45, 329999),\n",
       " (18, 4478, 5, 49, 699900),\n",
       " (19, 1268, 3, 58, 259900),\n",
       " (20, 2300, 4, 77, 449900),\n",
       " (21, 1320, 2, 62, 299900),\n",
       " (22, 1236, 3, 78, 199900),\n",
       " (23, 2609, 4, 5, 499998),\n",
       " (24, 3031, 4, 21, 599000),\n",
       " (25, 1767, 3, 44, 252900),\n",
       " (26, 1888, 2, 79, 255000),\n",
       " (27, 1604, 3, 13, 242900),\n",
       " (28, 1962, 4, 53, 259900),\n",
       " (29, 3890, 3, 36, 573900),\n",
       " (30, 1100, 3, 60, 249900),\n",
       " (31, 1458, 3, 29, 464500),\n",
       " (32, 2526, 3, 13, 469000),\n",
       " (33, 2200, 3, 28, 475000),\n",
       " (34, 2637, 3, 25, 299900),\n",
       " (35, 1839, 2, 40, 349900),\n",
       " (36, 1000, 1, 5, 169900),\n",
       " (37, 2040, 4, 75, 314900),\n",
       " (38, 3137, 3, 67, 579900),\n",
       " (39, 1811, 4, 24, 285900),\n",
       " (40, 1437, 3, 50, 249900),\n",
       " (41, 1239, 3, 22, 229900),\n",
       " (42, 2132, 4, 28, 345000),\n",
       " (43, 4215, 4, 66, 549000),\n",
       " (44, 2162, 4, 43, 287000),\n",
       " (45, 1664, 2, 40, 368500),\n",
       " (46, 2238, 3, 37, 329900),\n",
       " (47, 2567, 4, 57, 314000),\n",
       " (48, 1200, 3, 76, 299000),\n",
       " (49, 852, 2, 70, 179900),\n",
       " (50, 1852, 4, 64, 299900),\n",
       " (51, 1203, 3, 11, 239500),\n",
       " (52, 1200, 3, 15, 250000)]"
      ]
     },
     "execution_count": 18,
     "metadata": {},
     "output_type": "execute_result"
    }
   ],
   "source": [
    "c.execute('SELECT * FROM houses').fetchall()"
   ]
  },
  {
   "cell_type": "markdown",
   "metadata": {
    "colab_type": "text",
    "id": "fOU5sJDmlJQS"
   },
   "source": [
    "In this case, because we were inserting the same value for all records, so we could have simply used a 'None' in the numpy `insert` method at column 0."
   ]
  },
  {
   "cell_type": "code",
   "execution_count": 15,
   "metadata": {
    "ExecuteTime": {
     "end_time": "2019-03-21T03:00:26.207906Z",
     "start_time": "2019-03-21T03:00:26.192925Z"
    },
    "colab": {},
    "colab_type": "code",
    "id": "sDig16BalJQS"
   },
   "outputs": [],
   "source": [
    "import numpy as np\n",
    "d1 = np.asarray([1200, 3, 15, 250000])\n",
    "d1 = d1.tolist()\n",
    "d1.insert(0, None)\n",
    "d1\n",
    "c.execute('INSERT INTO houses VALUES (?, ?, ?, ?, ?)', d1)\n",
    "conn.commit()"
   ]
  },
  {
   "cell_type": "markdown",
   "metadata": {
    "colab_type": "text",
    "id": "FVZ3jVc3lJQT"
   },
   "source": [
    "#### Deleting Rows"
   ]
  },
  {
   "cell_type": "markdown",
   "metadata": {
    "colab_type": "text",
    "id": "fwGFqJKplJQU"
   },
   "source": [
    "The `DELETE FROM` statement can be used with a `WHERE` clause to specify rows to delete based on some criteria."
   ]
  },
  {
   "cell_type": "code",
   "execution_count": 19,
   "metadata": {
    "ExecuteTime": {
     "end_time": "2019-03-21T03:00:28.930270Z",
     "start_time": "2019-03-21T03:00:28.913316Z"
    },
    "colab": {},
    "colab_type": "code",
    "id": "G-t-_J1alJQU"
   },
   "outputs": [],
   "source": [
    "c.execute('DELETE FROM houses WHERE field1 IN (52, 53)')\n",
    "conn.commit()"
   ]
  },
  {
   "cell_type": "code",
   "execution_count": 20,
   "metadata": {},
   "outputs": [
    {
     "data": {
      "text/plain": [
       "[(1, 4000, 5, 22, 619000),\n",
       " (2, 2390, 4, 34, 319000),\n",
       " (3, 1870, 3, 14, 289000),\n",
       " (4, 1505, 3, 90, 269000),\n",
       " (5, 2104, 3, 70, 399900),\n",
       " (6, 1600, 3, 28, 329900),\n",
       " (7, 2400, 3, 44, 369000),\n",
       " (8, 1416, 2, 49, 232000),\n",
       " (9, 3000, 4, 75, 539900),\n",
       " (10, 1985, 4, 61, 299900),\n",
       " (11, 1534, 3, 12, 314900),\n",
       " (12, 1427, 3, 57, 198999),\n",
       " (13, 1380, 3, 14, 212000),\n",
       " (14, 1494, 3, 15, 242500),\n",
       " (15, 1940, 4, 7, 239999),\n",
       " (16, 2000, 3, 27, 347000),\n",
       " (17, 1890, 3, 45, 329999),\n",
       " (18, 4478, 5, 49, 699900),\n",
       " (19, 1268, 3, 58, 259900),\n",
       " (20, 2300, 4, 77, 449900),\n",
       " (21, 1320, 2, 62, 299900),\n",
       " (22, 1236, 3, 78, 199900),\n",
       " (23, 2609, 4, 5, 499998),\n",
       " (24, 3031, 4, 21, 599000),\n",
       " (25, 1767, 3, 44, 252900),\n",
       " (26, 1888, 2, 79, 255000),\n",
       " (27, 1604, 3, 13, 242900),\n",
       " (28, 1962, 4, 53, 259900),\n",
       " (29, 3890, 3, 36, 573900),\n",
       " (30, 1100, 3, 60, 249900),\n",
       " (31, 1458, 3, 29, 464500),\n",
       " (32, 2526, 3, 13, 469000),\n",
       " (33, 2200, 3, 28, 475000),\n",
       " (34, 2637, 3, 25, 299900),\n",
       " (35, 1839, 2, 40, 349900),\n",
       " (36, 1000, 1, 5, 169900),\n",
       " (37, 2040, 4, 75, 314900),\n",
       " (38, 3137, 3, 67, 579900),\n",
       " (39, 1811, 4, 24, 285900),\n",
       " (40, 1437, 3, 50, 249900),\n",
       " (41, 1239, 3, 22, 229900),\n",
       " (42, 2132, 4, 28, 345000),\n",
       " (43, 4215, 4, 66, 549000),\n",
       " (44, 2162, 4, 43, 287000),\n",
       " (45, 1664, 2, 40, 368500),\n",
       " (46, 2238, 3, 37, 329900),\n",
       " (47, 2567, 4, 57, 314000),\n",
       " (48, 1200, 3, 76, 299000),\n",
       " (49, 852, 2, 70, 179900),\n",
       " (50, 1852, 4, 64, 299900),\n",
       " (51, 1203, 3, 11, 239500)]"
      ]
     },
     "execution_count": 20,
     "metadata": {},
     "output_type": "execute_result"
    }
   ],
   "source": [
    "c.execute('SELECT * FROM houses').fetchall()"
   ]
  },
  {
   "cell_type": "markdown",
   "metadata": {
    "colab_type": "text",
    "id": "dBd4Rh8DlJQW"
   },
   "source": [
    "QUIZ: What would `DELETE FROM houses` do?"
   ]
  },
  {
   "cell_type": "markdown",
   "metadata": {
    "colab_type": "text",
    "id": "omubeB6qlJQW"
   },
   "source": [
    "#### Filtering Rows"
   ]
  },
  {
   "cell_type": "markdown",
   "metadata": {
    "colab_type": "text",
    "id": "0x6oaa-UlU2c"
   },
   "source": [
    "**1. Select Rows Where Bedrooms = 4**"
   ]
  },
  {
   "cell_type": "code",
   "execution_count": 23,
   "metadata": {
    "ExecuteTime": {
     "end_time": "2019-03-21T03:00:32.102245Z",
     "start_time": "2019-03-21T03:00:32.091281Z"
    },
    "colab": {},
    "colab_type": "code",
    "id": "tET_cYfWlJQX"
   },
   "outputs": [
    {
     "data": {
      "text/plain": [
       "[(2, 2390, 4, 34, 319000),\n",
       " (9, 3000, 4, 75, 539900),\n",
       " (10, 1985, 4, 61, 299900),\n",
       " (15, 1940, 4, 7, 239999),\n",
       " (20, 2300, 4, 77, 449900),\n",
       " (23, 2609, 4, 5, 499998),\n",
       " (24, 3031, 4, 21, 599000),\n",
       " (28, 1962, 4, 53, 259900),\n",
       " (37, 2040, 4, 75, 314900),\n",
       " (39, 1811, 4, 24, 285900),\n",
       " (42, 2132, 4, 28, 345000),\n",
       " (43, 4215, 4, 66, 549000),\n",
       " (44, 2162, 4, 43, 287000),\n",
       " (47, 2567, 4, 57, 314000),\n",
       " (50, 1852, 4, 64, 299900)]"
      ]
     },
     "execution_count": 23,
     "metadata": {},
     "output_type": "execute_result"
    }
   ],
   "source": [
    "# ANSWER\n",
    "results = c.execute('SELECT * FROM houses WHERE bdrms =4')\n",
    "\n",
    "results.fetchall()"
   ]
  },
  {
   "cell_type": "code",
   "execution_count": 25,
   "metadata": {},
   "outputs": [
    {
     "data": {
      "text/plain": [
       "[(50, 1852, 4, 64, 299900), (51, 1203, 3, 11, 239500)]"
      ]
     },
     "execution_count": 25,
     "metadata": {},
     "output_type": "execute_result"
    }
   ],
   "source": [
    "results = c.execute('SELECT * FROM houses WHERE field1 >= 50 AND field1 < 59')\n",
    "results.fetchall()"
   ]
  },
  {
   "cell_type": "markdown",
   "metadata": {
    "colab_type": "text",
    "id": "sTNiWQB2lJQg"
   },
   "source": [
    "**2. Run a query to calculate the average floor area and price of each size of house (i.e. by number of bedrooms):**"
   ]
  },
  {
   "cell_type": "code",
   "execution_count": 26,
   "metadata": {
    "ExecuteTime": {
     "end_time": "2019-03-21T03:00:40.229917Z",
     "start_time": "2019-03-21T03:00:40.215956Z"
    },
    "colab": {},
    "colab_type": "code",
    "id": "nkFpYIbVlJQg",
    "outputId": "a56eebd4-9f0b-483d-9e30-4305de3e25b6"
   },
   "outputs": [
    {
     "data": {
      "text/plain": [
       "[(1, 1000.0, 169900.0),\n",
       " (2, 1496.5, 280866.6666666667),\n",
       " (3, 1827.5555555555557, 322892.51851851854),\n",
       " (4, 2399.733333333333, 373553.13333333336),\n",
       " (5, 4239.0, 659450.0)]"
      ]
     },
     "execution_count": 26,
     "metadata": {},
     "output_type": "execute_result"
    }
   ],
   "source": [
    "# ANSWER\n",
    "results = c.execute(\"SELECT bdrms, AVG(sqft) AS avg_sqft, AVG(price) AS avg_price FROM houses GROUP BY bdrms\")\n",
    "results.fetchall()"
   ]
  },
  {
   "cell_type": "code",
   "execution_count": 27,
   "metadata": {},
   "outputs": [
    {
     "data": {
      "text/plain": [
       "sqlite3.Cursor"
      ]
     },
     "execution_count": 27,
     "metadata": {},
     "output_type": "execute_result"
    }
   ],
   "source": [
    "type(results)"
   ]
  },
  {
   "cell_type": "markdown",
   "metadata": {
    "colab_type": "text",
    "id": "7K9VDroqlJQi"
   },
   "source": [
    "### Pandas connector\n",
    "\n",
    "While databases provide many analytical capabilities, at some point we may need to pull data into Python for more flexible processing. Large, fixed operations would be more efficient in a database, but Pandas allows for interactive processing.\n",
    "\n",
    "For example, if you want to aggregate nightly log-ins or sales for a report or dashboard, this would be a fixed operation on a large dataset. These computations would run more efficiently in the database system itself.\n",
    "\n",
    "However, if we wanted to model the patterns of login behaviour or factors driving sales, then we would import the data to Python where we could use its simple interfaces to powerful analytic libraries."
   ]
  },
  {
   "cell_type": "code",
   "execution_count": 28,
   "metadata": {
    "ExecuteTime": {
     "end_time": "2019-03-21T03:00:47.378382Z",
     "start_time": "2019-03-21T03:00:46.506361Z"
    },
    "colab": {},
    "colab_type": "code",
    "id": "tvI0P-r8lJQj"
   },
   "outputs": [],
   "source": [
    "import pandas as pd\n",
    "from pandas.io import sql"
   ]
  },
  {
   "cell_type": "markdown",
   "metadata": {
    "colab_type": "text",
    "id": "gBz6pxPFlJQk"
   },
   "source": [
    "Pandas can connect to most relational databases. In this demonstration, we will create and connect to a SQLite database."
   ]
  },
  {
   "cell_type": "markdown",
   "metadata": {
    "colab_type": "text",
    "id": "3dZYouA_lJQk"
   },
   "source": [
    "### Writing data into a database\n",
    "\n",
    "Data in Pandas can be loaded into a relational database. \n",
    "\n",
    "If the data table is not too large, we can load all of it into a Pandas DataFrame:"
   ]
  },
  {
   "cell_type": "code",
   "execution_count": 29,
   "metadata": {
    "ExecuteTime": {
     "end_time": "2019-03-21T03:00:57.272152Z",
     "start_time": "2019-03-21T03:00:57.245228Z"
    },
    "colab": {},
    "colab_type": "code",
    "id": "GfjtD2iylJQl",
    "outputId": "efe6eddd-8fae-4ad3-d8b9-c34c3444a015"
   },
   "outputs": [
    {
     "data": {
      "text/html": [
       "<div>\n",
       "<style scoped>\n",
       "    .dataframe tbody tr th:only-of-type {\n",
       "        vertical-align: middle;\n",
       "    }\n",
       "\n",
       "    .dataframe tbody tr th {\n",
       "        vertical-align: top;\n",
       "    }\n",
       "\n",
       "    .dataframe thead th {\n",
       "        text-align: right;\n",
       "    }\n",
       "</style>\n",
       "<table border=\"1\" class=\"dataframe\">\n",
       "  <thead>\n",
       "    <tr style=\"text-align: right;\">\n",
       "      <th></th>\n",
       "      <th>sqft</th>\n",
       "      <th>bdrms</th>\n",
       "      <th>age</th>\n",
       "      <th>price</th>\n",
       "    </tr>\n",
       "  </thead>\n",
       "  <tbody>\n",
       "    <tr>\n",
       "      <th>0</th>\n",
       "      <td>2104</td>\n",
       "      <td>3</td>\n",
       "      <td>70</td>\n",
       "      <td>399900</td>\n",
       "    </tr>\n",
       "    <tr>\n",
       "      <th>1</th>\n",
       "      <td>1600</td>\n",
       "      <td>3</td>\n",
       "      <td>28</td>\n",
       "      <td>329900</td>\n",
       "    </tr>\n",
       "    <tr>\n",
       "      <th>2</th>\n",
       "      <td>2400</td>\n",
       "      <td>3</td>\n",
       "      <td>44</td>\n",
       "      <td>369000</td>\n",
       "    </tr>\n",
       "    <tr>\n",
       "      <th>3</th>\n",
       "      <td>1416</td>\n",
       "      <td>2</td>\n",
       "      <td>49</td>\n",
       "      <td>232000</td>\n",
       "    </tr>\n",
       "    <tr>\n",
       "      <th>4</th>\n",
       "      <td>3000</td>\n",
       "      <td>4</td>\n",
       "      <td>75</td>\n",
       "      <td>539900</td>\n",
       "    </tr>\n",
       "  </tbody>\n",
       "</table>\n",
       "</div>"
      ],
      "text/plain": [
       "   sqft  bdrms  age   price\n",
       "0  2104      3   70  399900\n",
       "1  1600      3   28  329900\n",
       "2  2400      3   44  369000\n",
       "3  1416      2   49  232000\n",
       "4  3000      4   75  539900"
      ]
     },
     "execution_count": 29,
     "metadata": {},
     "output_type": "execute_result"
    }
   ],
   "source": [
    "# Nb. Use low_memory=False to ensure that type inference does not fail due to buffered processing of input:\n",
    "data = pd.read_csv('C:/Users/victo/Documents/Institute_of_Data/DATA/housing-data.csv', low_memory = False)\n",
    "data.head()"
   ]
  },
  {
   "cell_type": "code",
   "execution_count": 30,
   "metadata": {},
   "outputs": [
    {
     "data": {
      "text/plain": [
       "pandas.core.frame.DataFrame"
      ]
     },
     "execution_count": 30,
     "metadata": {},
     "output_type": "execute_result"
    }
   ],
   "source": [
    "type(data)"
   ]
  },
  {
   "cell_type": "markdown",
   "metadata": {
    "colab_type": "text",
    "id": "3fD3CvPRlJQo"
   },
   "source": [
    "We can move data in the opposite direction -- from a DataFrame to a database -- using the `to_sql` command, similar to the `to_csv` command.\n",
    "\n",
    "`to_sql` takes as arguments:\n",
    "    - `name`, the table name to create\n",
    "    - `con`, a connection to a database\n",
    "    - `index`, whether to input the index column\n",
    "    - `schema`, if we want to write a custom schema for the new table\n",
    "    - `if_exists`, what to do if the table already exists. We can overwrite it, add to it, or fail"
   ]
  },
  {
   "cell_type": "markdown",
   "metadata": {
    "colab_type": "text",
    "id": "Q2W5ZbrHlJQo"
   },
   "source": [
    "This copies our `data` DataFrame to a sqlite3 table called `houses_pandas`:"
   ]
  },
  {
   "cell_type": "code",
   "execution_count": 31,
   "metadata": {
    "ExecuteTime": {
     "end_time": "2019-03-21T03:01:06.485595Z",
     "start_time": "2019-03-21T03:01:06.010981Z"
    },
    "colab": {},
    "colab_type": "code",
    "id": "BoyMHydFlJQp"
   },
   "outputs": [],
   "source": [
    "data.to_sql('houses_pandas', con = conn, if_exists = 'replace', index = False)"
   ]
  },
  {
   "cell_type": "code",
   "execution_count": 33,
   "metadata": {
    "collapsed": true
   },
   "outputs": [
    {
     "data": {
      "text/plain": [
       "[(1, 4000, 5, 22, 619000),\n",
       " (2, 2390, 4, 34, 319000),\n",
       " (3, 1870, 3, 14, 289000),\n",
       " (4, 1505, 3, 90, 269000),\n",
       " (5, 2104, 3, 70, 399900),\n",
       " (6, 1600, 3, 28, 329900),\n",
       " (7, 2400, 3, 44, 369000),\n",
       " (8, 1416, 2, 49, 232000),\n",
       " (9, 3000, 4, 75, 539900),\n",
       " (10, 1985, 4, 61, 299900),\n",
       " (11, 1534, 3, 12, 314900),\n",
       " (12, 1427, 3, 57, 198999),\n",
       " (13, 1380, 3, 14, 212000),\n",
       " (14, 1494, 3, 15, 242500),\n",
       " (15, 1940, 4, 7, 239999),\n",
       " (16, 2000, 3, 27, 347000),\n",
       " (17, 1890, 3, 45, 329999),\n",
       " (18, 4478, 5, 49, 699900),\n",
       " (19, 1268, 3, 58, 259900),\n",
       " (20, 2300, 4, 77, 449900),\n",
       " (21, 1320, 2, 62, 299900),\n",
       " (22, 1236, 3, 78, 199900),\n",
       " (23, 2609, 4, 5, 499998),\n",
       " (24, 3031, 4, 21, 599000),\n",
       " (25, 1767, 3, 44, 252900),\n",
       " (26, 1888, 2, 79, 255000),\n",
       " (27, 1604, 3, 13, 242900),\n",
       " (28, 1962, 4, 53, 259900),\n",
       " (29, 3890, 3, 36, 573900),\n",
       " (30, 1100, 3, 60, 249900),\n",
       " (31, 1458, 3, 29, 464500),\n",
       " (32, 2526, 3, 13, 469000),\n",
       " (33, 2200, 3, 28, 475000),\n",
       " (34, 2637, 3, 25, 299900),\n",
       " (35, 1839, 2, 40, 349900),\n",
       " (36, 1000, 1, 5, 169900),\n",
       " (37, 2040, 4, 75, 314900),\n",
       " (38, 3137, 3, 67, 579900),\n",
       " (39, 1811, 4, 24, 285900),\n",
       " (40, 1437, 3, 50, 249900),\n",
       " (41, 1239, 3, 22, 229900),\n",
       " (42, 2132, 4, 28, 345000),\n",
       " (43, 4215, 4, 66, 549000),\n",
       " (44, 2162, 4, 43, 287000),\n",
       " (45, 1664, 2, 40, 368500),\n",
       " (46, 2238, 3, 37, 329900),\n",
       " (47, 2567, 4, 57, 314000),\n",
       " (48, 1200, 3, 76, 299000),\n",
       " (49, 852, 2, 70, 179900),\n",
       " (50, 1852, 4, 64, 299900),\n",
       " (51, 1203, 3, 11, 239500)]"
      ]
     },
     "execution_count": 33,
     "metadata": {},
     "output_type": "execute_result"
    }
   ],
   "source": [
    "c.execute('SELECT * FROM houses').fetchall()"
   ]
  },
  {
   "cell_type": "code",
   "execution_count": 32,
   "metadata": {},
   "outputs": [
    {
     "data": {
      "text/plain": [
       "[(2104, 3, 70, 399900),\n",
       " (1600, 3, 28, 329900),\n",
       " (2400, 3, 44, 369000),\n",
       " (1416, 2, 49, 232000),\n",
       " (3000, 4, 75, 539900),\n",
       " (1985, 4, 61, 299900),\n",
       " (1534, 3, 12, 314900),\n",
       " (1427, 3, 57, 198999),\n",
       " (1380, 3, 14, 212000),\n",
       " (1494, 3, 15, 242500),\n",
       " (1940, 4, 7, 239999),\n",
       " (2000, 3, 27, 347000),\n",
       " (1890, 3, 45, 329999),\n",
       " (4478, 5, 49, 699900),\n",
       " (1268, 3, 58, 259900),\n",
       " (2300, 4, 77, 449900),\n",
       " (1320, 2, 62, 299900),\n",
       " (1236, 3, 78, 199900),\n",
       " (2609, 4, 5, 499998),\n",
       " (3031, 4, 21, 599000),\n",
       " (1767, 3, 44, 252900),\n",
       " (1888, 2, 79, 255000),\n",
       " (1604, 3, 13, 242900),\n",
       " (1962, 4, 53, 259900),\n",
       " (3890, 3, 36, 573900),\n",
       " (1100, 3, 60, 249900),\n",
       " (1458, 3, 29, 464500),\n",
       " (2526, 3, 13, 469000),\n",
       " (2200, 3, 28, 475000),\n",
       " (2637, 3, 25, 299900),\n",
       " (1839, 2, 40, 349900),\n",
       " (1000, 1, 5, 169900),\n",
       " (2040, 4, 75, 314900),\n",
       " (3137, 3, 67, 579900),\n",
       " (1811, 4, 24, 285900),\n",
       " (1437, 3, 50, 249900),\n",
       " (1239, 3, 22, 229900),\n",
       " (2132, 4, 28, 345000),\n",
       " (4215, 4, 66, 549000),\n",
       " (2162, 4, 43, 287000),\n",
       " (1664, 2, 40, 368500),\n",
       " (2238, 3, 37, 329900),\n",
       " (2567, 4, 57, 314000),\n",
       " (1200, 3, 76, 299000),\n",
       " (852, 2, 70, 179900),\n",
       " (1852, 4, 64, 299900),\n",
       " (1203, 3, 11, 239500)]"
      ]
     },
     "execution_count": 32,
     "metadata": {},
     "output_type": "execute_result"
    }
   ],
   "source": [
    "c.execute('SELECT * FROM houses_pandas').fetchall()"
   ]
  },
  {
   "cell_type": "markdown",
   "metadata": {
    "colab_type": "text",
    "id": "WqPJA5l_lJQr"
   },
   "source": [
    "Run a query to get the average price of each house size from this table:"
   ]
  },
  {
   "cell_type": "code",
   "execution_count": 34,
   "metadata": {
    "ExecuteTime": {
     "end_time": "2019-03-21T03:01:09.023417Z",
     "start_time": "2019-03-21T03:01:09.016436Z"
    },
    "colab": {},
    "colab_type": "code",
    "id": "w5Uf5INrlJQr"
   },
   "outputs": [
    {
     "data": {
      "text/plain": [
       "[(1, 169900.0),\n",
       " (2, 280866.6666666667),\n",
       " (3, 326403.92),\n",
       " (4, 377449.78571428574),\n",
       " (5, 699900.0)]"
      ]
     },
     "execution_count": 34,
     "metadata": {},
     "output_type": "execute_result"
    }
   ],
   "source": [
    "#ANSWER\n",
    "c.execute('SELECT bdrms, AVG(price) FROM houses_pandas GROUP BY bdrms').fetchall()"
   ]
  },
  {
   "cell_type": "code",
   "execution_count": null,
   "metadata": {},
   "outputs": [],
   "source": []
  },
  {
   "cell_type": "markdown",
   "metadata": {},
   "source": [
    "How to change database to dataframe?"
   ]
  },
  {
   "cell_type": "code",
   "execution_count": 35,
   "metadata": {},
   "outputs": [],
   "source": [
    "results = c.execute('SELECT * FROM houses_pandas').fetchall()"
   ]
  },
  {
   "cell_type": "code",
   "execution_count": 38,
   "metadata": {},
   "outputs": [
    {
     "data": {
      "text/html": [
       "<div>\n",
       "<style scoped>\n",
       "    .dataframe tbody tr th:only-of-type {\n",
       "        vertical-align: middle;\n",
       "    }\n",
       "\n",
       "    .dataframe tbody tr th {\n",
       "        vertical-align: top;\n",
       "    }\n",
       "\n",
       "    .dataframe thead th {\n",
       "        text-align: right;\n",
       "    }\n",
       "</style>\n",
       "<table border=\"1\" class=\"dataframe\">\n",
       "  <thead>\n",
       "    <tr style=\"text-align: right;\">\n",
       "      <th></th>\n",
       "      <th>s</th>\n",
       "      <th>b</th>\n",
       "      <th>a</th>\n",
       "      <th>p</th>\n",
       "    </tr>\n",
       "  </thead>\n",
       "  <tbody>\n",
       "    <tr>\n",
       "      <th>0</th>\n",
       "      <td>2104</td>\n",
       "      <td>3</td>\n",
       "      <td>70</td>\n",
       "      <td>399900</td>\n",
       "    </tr>\n",
       "    <tr>\n",
       "      <th>1</th>\n",
       "      <td>1600</td>\n",
       "      <td>3</td>\n",
       "      <td>28</td>\n",
       "      <td>329900</td>\n",
       "    </tr>\n",
       "    <tr>\n",
       "      <th>2</th>\n",
       "      <td>2400</td>\n",
       "      <td>3</td>\n",
       "      <td>44</td>\n",
       "      <td>369000</td>\n",
       "    </tr>\n",
       "    <tr>\n",
       "      <th>3</th>\n",
       "      <td>1416</td>\n",
       "      <td>2</td>\n",
       "      <td>49</td>\n",
       "      <td>232000</td>\n",
       "    </tr>\n",
       "    <tr>\n",
       "      <th>4</th>\n",
       "      <td>3000</td>\n",
       "      <td>4</td>\n",
       "      <td>75</td>\n",
       "      <td>539900</td>\n",
       "    </tr>\n",
       "    <tr>\n",
       "      <th>5</th>\n",
       "      <td>1985</td>\n",
       "      <td>4</td>\n",
       "      <td>61</td>\n",
       "      <td>299900</td>\n",
       "    </tr>\n",
       "    <tr>\n",
       "      <th>6</th>\n",
       "      <td>1534</td>\n",
       "      <td>3</td>\n",
       "      <td>12</td>\n",
       "      <td>314900</td>\n",
       "    </tr>\n",
       "    <tr>\n",
       "      <th>7</th>\n",
       "      <td>1427</td>\n",
       "      <td>3</td>\n",
       "      <td>57</td>\n",
       "      <td>198999</td>\n",
       "    </tr>\n",
       "    <tr>\n",
       "      <th>8</th>\n",
       "      <td>1380</td>\n",
       "      <td>3</td>\n",
       "      <td>14</td>\n",
       "      <td>212000</td>\n",
       "    </tr>\n",
       "    <tr>\n",
       "      <th>9</th>\n",
       "      <td>1494</td>\n",
       "      <td>3</td>\n",
       "      <td>15</td>\n",
       "      <td>242500</td>\n",
       "    </tr>\n",
       "    <tr>\n",
       "      <th>10</th>\n",
       "      <td>1940</td>\n",
       "      <td>4</td>\n",
       "      <td>7</td>\n",
       "      <td>239999</td>\n",
       "    </tr>\n",
       "    <tr>\n",
       "      <th>11</th>\n",
       "      <td>2000</td>\n",
       "      <td>3</td>\n",
       "      <td>27</td>\n",
       "      <td>347000</td>\n",
       "    </tr>\n",
       "    <tr>\n",
       "      <th>12</th>\n",
       "      <td>1890</td>\n",
       "      <td>3</td>\n",
       "      <td>45</td>\n",
       "      <td>329999</td>\n",
       "    </tr>\n",
       "    <tr>\n",
       "      <th>13</th>\n",
       "      <td>4478</td>\n",
       "      <td>5</td>\n",
       "      <td>49</td>\n",
       "      <td>699900</td>\n",
       "    </tr>\n",
       "    <tr>\n",
       "      <th>14</th>\n",
       "      <td>1268</td>\n",
       "      <td>3</td>\n",
       "      <td>58</td>\n",
       "      <td>259900</td>\n",
       "    </tr>\n",
       "    <tr>\n",
       "      <th>15</th>\n",
       "      <td>2300</td>\n",
       "      <td>4</td>\n",
       "      <td>77</td>\n",
       "      <td>449900</td>\n",
       "    </tr>\n",
       "    <tr>\n",
       "      <th>16</th>\n",
       "      <td>1320</td>\n",
       "      <td>2</td>\n",
       "      <td>62</td>\n",
       "      <td>299900</td>\n",
       "    </tr>\n",
       "    <tr>\n",
       "      <th>17</th>\n",
       "      <td>1236</td>\n",
       "      <td>3</td>\n",
       "      <td>78</td>\n",
       "      <td>199900</td>\n",
       "    </tr>\n",
       "    <tr>\n",
       "      <th>18</th>\n",
       "      <td>2609</td>\n",
       "      <td>4</td>\n",
       "      <td>5</td>\n",
       "      <td>499998</td>\n",
       "    </tr>\n",
       "    <tr>\n",
       "      <th>19</th>\n",
       "      <td>3031</td>\n",
       "      <td>4</td>\n",
       "      <td>21</td>\n",
       "      <td>599000</td>\n",
       "    </tr>\n",
       "    <tr>\n",
       "      <th>20</th>\n",
       "      <td>1767</td>\n",
       "      <td>3</td>\n",
       "      <td>44</td>\n",
       "      <td>252900</td>\n",
       "    </tr>\n",
       "    <tr>\n",
       "      <th>21</th>\n",
       "      <td>1888</td>\n",
       "      <td>2</td>\n",
       "      <td>79</td>\n",
       "      <td>255000</td>\n",
       "    </tr>\n",
       "    <tr>\n",
       "      <th>22</th>\n",
       "      <td>1604</td>\n",
       "      <td>3</td>\n",
       "      <td>13</td>\n",
       "      <td>242900</td>\n",
       "    </tr>\n",
       "    <tr>\n",
       "      <th>23</th>\n",
       "      <td>1962</td>\n",
       "      <td>4</td>\n",
       "      <td>53</td>\n",
       "      <td>259900</td>\n",
       "    </tr>\n",
       "    <tr>\n",
       "      <th>24</th>\n",
       "      <td>3890</td>\n",
       "      <td>3</td>\n",
       "      <td>36</td>\n",
       "      <td>573900</td>\n",
       "    </tr>\n",
       "    <tr>\n",
       "      <th>25</th>\n",
       "      <td>1100</td>\n",
       "      <td>3</td>\n",
       "      <td>60</td>\n",
       "      <td>249900</td>\n",
       "    </tr>\n",
       "    <tr>\n",
       "      <th>26</th>\n",
       "      <td>1458</td>\n",
       "      <td>3</td>\n",
       "      <td>29</td>\n",
       "      <td>464500</td>\n",
       "    </tr>\n",
       "    <tr>\n",
       "      <th>27</th>\n",
       "      <td>2526</td>\n",
       "      <td>3</td>\n",
       "      <td>13</td>\n",
       "      <td>469000</td>\n",
       "    </tr>\n",
       "    <tr>\n",
       "      <th>28</th>\n",
       "      <td>2200</td>\n",
       "      <td>3</td>\n",
       "      <td>28</td>\n",
       "      <td>475000</td>\n",
       "    </tr>\n",
       "    <tr>\n",
       "      <th>29</th>\n",
       "      <td>2637</td>\n",
       "      <td>3</td>\n",
       "      <td>25</td>\n",
       "      <td>299900</td>\n",
       "    </tr>\n",
       "    <tr>\n",
       "      <th>30</th>\n",
       "      <td>1839</td>\n",
       "      <td>2</td>\n",
       "      <td>40</td>\n",
       "      <td>349900</td>\n",
       "    </tr>\n",
       "    <tr>\n",
       "      <th>31</th>\n",
       "      <td>1000</td>\n",
       "      <td>1</td>\n",
       "      <td>5</td>\n",
       "      <td>169900</td>\n",
       "    </tr>\n",
       "    <tr>\n",
       "      <th>32</th>\n",
       "      <td>2040</td>\n",
       "      <td>4</td>\n",
       "      <td>75</td>\n",
       "      <td>314900</td>\n",
       "    </tr>\n",
       "    <tr>\n",
       "      <th>33</th>\n",
       "      <td>3137</td>\n",
       "      <td>3</td>\n",
       "      <td>67</td>\n",
       "      <td>579900</td>\n",
       "    </tr>\n",
       "    <tr>\n",
       "      <th>34</th>\n",
       "      <td>1811</td>\n",
       "      <td>4</td>\n",
       "      <td>24</td>\n",
       "      <td>285900</td>\n",
       "    </tr>\n",
       "    <tr>\n",
       "      <th>35</th>\n",
       "      <td>1437</td>\n",
       "      <td>3</td>\n",
       "      <td>50</td>\n",
       "      <td>249900</td>\n",
       "    </tr>\n",
       "    <tr>\n",
       "      <th>36</th>\n",
       "      <td>1239</td>\n",
       "      <td>3</td>\n",
       "      <td>22</td>\n",
       "      <td>229900</td>\n",
       "    </tr>\n",
       "    <tr>\n",
       "      <th>37</th>\n",
       "      <td>2132</td>\n",
       "      <td>4</td>\n",
       "      <td>28</td>\n",
       "      <td>345000</td>\n",
       "    </tr>\n",
       "    <tr>\n",
       "      <th>38</th>\n",
       "      <td>4215</td>\n",
       "      <td>4</td>\n",
       "      <td>66</td>\n",
       "      <td>549000</td>\n",
       "    </tr>\n",
       "    <tr>\n",
       "      <th>39</th>\n",
       "      <td>2162</td>\n",
       "      <td>4</td>\n",
       "      <td>43</td>\n",
       "      <td>287000</td>\n",
       "    </tr>\n",
       "    <tr>\n",
       "      <th>40</th>\n",
       "      <td>1664</td>\n",
       "      <td>2</td>\n",
       "      <td>40</td>\n",
       "      <td>368500</td>\n",
       "    </tr>\n",
       "    <tr>\n",
       "      <th>41</th>\n",
       "      <td>2238</td>\n",
       "      <td>3</td>\n",
       "      <td>37</td>\n",
       "      <td>329900</td>\n",
       "    </tr>\n",
       "    <tr>\n",
       "      <th>42</th>\n",
       "      <td>2567</td>\n",
       "      <td>4</td>\n",
       "      <td>57</td>\n",
       "      <td>314000</td>\n",
       "    </tr>\n",
       "    <tr>\n",
       "      <th>43</th>\n",
       "      <td>1200</td>\n",
       "      <td>3</td>\n",
       "      <td>76</td>\n",
       "      <td>299000</td>\n",
       "    </tr>\n",
       "    <tr>\n",
       "      <th>44</th>\n",
       "      <td>852</td>\n",
       "      <td>2</td>\n",
       "      <td>70</td>\n",
       "      <td>179900</td>\n",
       "    </tr>\n",
       "    <tr>\n",
       "      <th>45</th>\n",
       "      <td>1852</td>\n",
       "      <td>4</td>\n",
       "      <td>64</td>\n",
       "      <td>299900</td>\n",
       "    </tr>\n",
       "    <tr>\n",
       "      <th>46</th>\n",
       "      <td>1203</td>\n",
       "      <td>3</td>\n",
       "      <td>11</td>\n",
       "      <td>239500</td>\n",
       "    </tr>\n",
       "  </tbody>\n",
       "</table>\n",
       "</div>"
      ],
      "text/plain": [
       "       s  b   a       p\n",
       "0   2104  3  70  399900\n",
       "1   1600  3  28  329900\n",
       "2   2400  3  44  369000\n",
       "3   1416  2  49  232000\n",
       "4   3000  4  75  539900\n",
       "5   1985  4  61  299900\n",
       "6   1534  3  12  314900\n",
       "7   1427  3  57  198999\n",
       "8   1380  3  14  212000\n",
       "9   1494  3  15  242500\n",
       "10  1940  4   7  239999\n",
       "11  2000  3  27  347000\n",
       "12  1890  3  45  329999\n",
       "13  4478  5  49  699900\n",
       "14  1268  3  58  259900\n",
       "15  2300  4  77  449900\n",
       "16  1320  2  62  299900\n",
       "17  1236  3  78  199900\n",
       "18  2609  4   5  499998\n",
       "19  3031  4  21  599000\n",
       "20  1767  3  44  252900\n",
       "21  1888  2  79  255000\n",
       "22  1604  3  13  242900\n",
       "23  1962  4  53  259900\n",
       "24  3890  3  36  573900\n",
       "25  1100  3  60  249900\n",
       "26  1458  3  29  464500\n",
       "27  2526  3  13  469000\n",
       "28  2200  3  28  475000\n",
       "29  2637  3  25  299900\n",
       "30  1839  2  40  349900\n",
       "31  1000  1   5  169900\n",
       "32  2040  4  75  314900\n",
       "33  3137  3  67  579900\n",
       "34  1811  4  24  285900\n",
       "35  1437  3  50  249900\n",
       "36  1239  3  22  229900\n",
       "37  2132  4  28  345000\n",
       "38  4215  4  66  549000\n",
       "39  2162  4  43  287000\n",
       "40  1664  2  40  368500\n",
       "41  2238  3  37  329900\n",
       "42  2567  4  57  314000\n",
       "43  1200  3  76  299000\n",
       "44   852  2  70  179900\n",
       "45  1852  4  64  299900\n",
       "46  1203  3  11  239500"
      ]
     },
     "execution_count": 38,
     "metadata": {},
     "output_type": "execute_result"
    }
   ],
   "source": [
    "pd.DataFrame(results, columns=['s', 'b', 'a', 'p'])"
   ]
  },
  {
   "cell_type": "markdown",
   "metadata": {
    "colab_type": "text",
    "id": "CJtvJ5EylJQu"
   },
   "source": [
    "## Discussion\n",
    "\n",
    "**Scenarios for using Pandas with SQLite**\n",
    "\n",
    "1. When would you want to use Pandas on a dataset before storing it in a database?\n",
    "\n",
    "2. When would you want to use Pandas on a dataset retrieved from a database?"
   ]
  },
  {
   "cell_type": "markdown",
   "metadata": {
    "colab_type": "text",
    "id": "YZ7J3ZyUlJQu"
   },
   "source": [
    "<a name=\"guided-practice\"></a>\n",
    "\n",
    "\n",
    "# Reference: SQL Syntax \n",
    "\n",
    "\n",
    "#### SELECT Statement\n",
    "Every query should start with `SELECT`.  `SELECT` is followed by the names of the columns in the output.\n",
    "\n",
    "`SELECT` is always paired with `FROM`, and `FROM` identifies the table to retrieve data from.\n",
    "\n",
    "```sql\n",
    "SELECT\n",
    "<columns>\n",
    "FROM\n",
    "<table>\n",
    "```\n",
    "\n",
    "`SELECT *` denotes returns *all* of the columns.\n",
    "\n",
    "Housing Data example:\n",
    "```sql\n",
    "SELECT\n",
    "sqft, bdrms\n",
    "FROM houses_pandas;\n",
    "```\n",
    "\n",
    "**Check:** Write a query that returns the `sqft`, `bdrms` and `price`.\n",
    "\n",
    "```sql\n",
    "SELECT\n",
    "sqft, bdrms, price\n",
    "FROM houses_pandas;\n",
    "```\n",
    "\n",
    "#### WHERE Clause\n",
    "`WHERE` is used to filter table to a specific criteria and follows the `FROM` clause.\n",
    "\n",
    "```sql\n",
    "SELECT\n",
    "<columns>\n",
    "FROM\n",
    "<table>\n",
    "WHERE\n",
    "<condition>\n",
    "```\n",
    "Example:\n",
    "```sql\n",
    "SELECT\n",
    "sqft, bdrms, age, price\n",
    "FROM houses_pandas\n",
    "WHERE bdrms = 2 and price < 250000;\n",
    "```\n",
    "\n",
    "The condition is effectively a row filter; rows that match the condition will be included in the rowset that is returned by the query.\n",
    "\n",
    "**Check:** Write a query that returns the `sqft`, `bdrms`, `age` for houses older than 60 years.\n",
    ">```sql\n",
    "SELECT\n",
    "sqft, bdrms, age\n",
    "FROM houses_pandas\n",
    "WHERE age > 60;\n",
    "```"
   ]
  },
  {
   "cell_type": "markdown",
   "metadata": {
    "colab_type": "text",
    "id": "u5hFKdhQlJQu"
   },
   "source": [
    "### AGGREGATIONS\n",
    "\n",
    "Aggregations (or aggregate functions) are functions where the values of multiple rows are grouped together as input on certain criteria to form a single value of more significant meaning or measurement such as a set, a bag or a list.\n",
    "\n",
    "Examples of aggregate funtions:\n",
    "\n",
    "- Average (i.e., arithmetic mean)\n",
    "- Count\n",
    "- Maximum\n",
    "- Minimum\n",
    "- Median\n",
    "- Mode\n",
    "- Sum\n",
    "\n",
    "In SQL they are performed in a `SELECT` statement as follows.\n",
    "\n",
    "```sql\n",
    "SELECT COUNT(price)\n",
    "FROM houses_pandas;\n",
    "```\n",
    "\n",
    "```sql\n",
    "SELECT AVG(sqft), MIN(price), MAX(price)\n",
    "FROM houses_pandas\n",
    "WHERE bdrms = 2;\n",
    "```"
   ]
  },
  {
   "cell_type": "markdown",
   "metadata": {
    "colab_type": "text",
    "id": "CscvF7JthEEO"
   },
   "source": [
    "### Read Order Data\n",
    "- P12-ListOfOrders\n",
    "- P12-OrderBreakdown"
   ]
  },
  {
   "cell_type": "markdown",
   "metadata": {
    "colab_type": "text",
    "id": "DOl3mmXohEEP"
   },
   "source": [
    "#### 1. Read CSV into DataFrame"
   ]
  },
  {
   "cell_type": "code",
   "execution_count": 0,
   "metadata": {
    "ExecuteTime": {
     "end_time": "2019-03-21T03:22:39.364636Z",
     "start_time": "2019-03-21T03:22:39.360648Z"
    },
    "colab": {},
    "colab_type": "code",
    "id": "bVugNG7HhEEP"
   },
   "outputs": [],
   "source": [
    "import pandas as pd\n",
    "import sqlite3\n",
    "from pandas.io import sql"
   ]
  },
  {
   "cell_type": "code",
   "execution_count": 0,
   "metadata": {
    "ExecuteTime": {
     "end_time": "2019-03-21T03:12:07.534283Z",
     "start_time": "2019-03-21T03:12:07.477433Z"
    },
    "colab": {},
    "colab_type": "code",
    "id": "Q6QO2rjrhEER"
   },
   "outputs": [],
   "source": [
    "# Reading CSV to Dataframe\n",
    "orders = pd.read_csv('../DATA/P12-ListOfOrders.csv', encoding = 'utf-8')\n",
    "orders_break_down =  pd.read_csv('../DATA/P12-OrderBreakdown.csv', encoding = 'utf-8')"
   ]
  },
  {
   "cell_type": "code",
   "execution_count": 0,
   "metadata": {
    "ExecuteTime": {
     "end_time": "2019-03-21T03:12:26.465643Z",
     "start_time": "2019-03-21T03:12:26.437719Z"
    },
    "colab": {},
    "colab_type": "code",
    "id": "ap_uuKx6hEET",
    "outputId": "5454cc0b-5b6d-4afc-9f7e-a0d2e20aedf2"
   },
   "outputs": [
    {
     "data": {
      "text/html": [
       "<div>\n",
       "<style scoped>\n",
       "    .dataframe tbody tr th:only-of-type {\n",
       "        vertical-align: middle;\n",
       "    }\n",
       "\n",
       "    .dataframe tbody tr th {\n",
       "        vertical-align: top;\n",
       "    }\n",
       "\n",
       "    .dataframe thead th {\n",
       "        text-align: right;\n",
       "    }\n",
       "</style>\n",
       "<table border=\"1\" class=\"dataframe\">\n",
       "  <thead>\n",
       "    <tr style=\"text-align: right;\">\n",
       "      <th></th>\n",
       "      <th>Order ID</th>\n",
       "      <th>Order Date</th>\n",
       "      <th>Customer Name</th>\n",
       "      <th>Country</th>\n",
       "    </tr>\n",
       "  </thead>\n",
       "  <tbody>\n",
       "    <tr>\n",
       "      <th>0</th>\n",
       "      <td>IT-2011-3647632</td>\n",
       "      <td>2011-01-01</td>\n",
       "      <td>Eugene Moren</td>\n",
       "      <td>Sweden</td>\n",
       "    </tr>\n",
       "    <tr>\n",
       "      <th>1</th>\n",
       "      <td>ES-2011-4869686</td>\n",
       "      <td>2011-01-03</td>\n",
       "      <td>Dorothy Dickinson</td>\n",
       "      <td>United Kingdom</td>\n",
       "    </tr>\n",
       "    <tr>\n",
       "      <th>2</th>\n",
       "      <td>ES-2011-4939443</td>\n",
       "      <td>2011-01-04</td>\n",
       "      <td>Arthur Prichep</td>\n",
       "      <td>France</td>\n",
       "    </tr>\n",
       "    <tr>\n",
       "      <th>3</th>\n",
       "      <td>IT-2011-2942451</td>\n",
       "      <td>2011-01-04</td>\n",
       "      <td>Grant Thornton</td>\n",
       "      <td>United Kingdom</td>\n",
       "    </tr>\n",
       "    <tr>\n",
       "      <th>4</th>\n",
       "      <td>ES-2011-3848439</td>\n",
       "      <td>2011-01-05</td>\n",
       "      <td>Michael Granlund</td>\n",
       "      <td>France</td>\n",
       "    </tr>\n",
       "  </tbody>\n",
       "</table>\n",
       "</div>"
      ],
      "text/plain": [
       "          Order ID  Order Date      Customer Name         Country\n",
       "0  IT-2011-3647632  2011-01-01       Eugene Moren          Sweden\n",
       "1  ES-2011-4869686  2011-01-03  Dorothy Dickinson  United Kingdom\n",
       "2  ES-2011-4939443  2011-01-04     Arthur Prichep          France\n",
       "3  IT-2011-2942451  2011-01-04     Grant Thornton  United Kingdom\n",
       "4  ES-2011-3848439  2011-01-05   Michael Granlund          France"
      ]
     },
     "execution_count": 24,
     "metadata": {
      "tags": []
     },
     "output_type": "execute_result"
    }
   ],
   "source": [
    "orders.head()"
   ]
  },
  {
   "cell_type": "code",
   "execution_count": 0,
   "metadata": {
    "ExecuteTime": {
     "end_time": "2019-03-21T03:13:14.105960Z",
     "start_time": "2019-03-21T03:13:14.090003Z"
    },
    "colab": {},
    "colab_type": "code",
    "id": "m88fsu3ChEEW",
    "outputId": "cda0ef93-c898-4a46-83a9-8abd8bacc7b8"
   },
   "outputs": [
    {
     "data": {
      "text/html": [
       "<div>\n",
       "<style scoped>\n",
       "    .dataframe tbody tr th:only-of-type {\n",
       "        vertical-align: middle;\n",
       "    }\n",
       "\n",
       "    .dataframe tbody tr th {\n",
       "        vertical-align: top;\n",
       "    }\n",
       "\n",
       "    .dataframe thead th {\n",
       "        text-align: right;\n",
       "    }\n",
       "</style>\n",
       "<table border=\"1\" class=\"dataframe\">\n",
       "  <thead>\n",
       "    <tr style=\"text-align: right;\">\n",
       "      <th></th>\n",
       "      <th>Order ID</th>\n",
       "      <th>Product Name</th>\n",
       "      <th>Discount</th>\n",
       "      <th>Sales</th>\n",
       "      <th>Quantity</th>\n",
       "      <th>Category</th>\n",
       "    </tr>\n",
       "  </thead>\n",
       "  <tbody>\n",
       "    <tr>\n",
       "      <th>0</th>\n",
       "      <td>IT-2011-3647632</td>\n",
       "      <td>Enermax Note Cards, Premium</td>\n",
       "      <td>0.5</td>\n",
       "      <td>45.0</td>\n",
       "      <td>3</td>\n",
       "      <td>Office Supplies</td>\n",
       "    </tr>\n",
       "    <tr>\n",
       "      <th>1</th>\n",
       "      <td>ES-2011-4869686</td>\n",
       "      <td>Dania Corner Shelving, Traditional</td>\n",
       "      <td>0.0</td>\n",
       "      <td>854.0</td>\n",
       "      <td>7</td>\n",
       "      <td>Furniture</td>\n",
       "    </tr>\n",
       "    <tr>\n",
       "      <th>2</th>\n",
       "      <td>ES-2011-4939443</td>\n",
       "      <td>Binney &amp; Smith Sketch Pad, Easy-Erase</td>\n",
       "      <td>0.0</td>\n",
       "      <td>140.0</td>\n",
       "      <td>3</td>\n",
       "      <td>Office Supplies</td>\n",
       "    </tr>\n",
       "    <tr>\n",
       "      <th>3</th>\n",
       "      <td>IT-2011-2942451</td>\n",
       "      <td>Boston Markers, Easy-Erase</td>\n",
       "      <td>0.5</td>\n",
       "      <td>27.0</td>\n",
       "      <td>2</td>\n",
       "      <td>Office Supplies</td>\n",
       "    </tr>\n",
       "    <tr>\n",
       "      <th>4</th>\n",
       "      <td>IT-2011-2942451</td>\n",
       "      <td>Eldon Folders, Single Width</td>\n",
       "      <td>0.5</td>\n",
       "      <td>17.0</td>\n",
       "      <td>2</td>\n",
       "      <td>Office Supplies</td>\n",
       "    </tr>\n",
       "  </tbody>\n",
       "</table>\n",
       "</div>"
      ],
      "text/plain": [
       "          Order ID                           Product Name  Discount  Sales  \\\n",
       "0  IT-2011-3647632            Enermax Note Cards, Premium       0.5   45.0   \n",
       "1  ES-2011-4869686     Dania Corner Shelving, Traditional       0.0  854.0   \n",
       "2  ES-2011-4939443  Binney & Smith Sketch Pad, Easy-Erase       0.0  140.0   \n",
       "3  IT-2011-2942451             Boston Markers, Easy-Erase       0.5   27.0   \n",
       "4  IT-2011-2942451            Eldon Folders, Single Width       0.5   17.0   \n",
       "\n",
       "   Quantity         Category  \n",
       "0         3  Office Supplies  \n",
       "1         7        Furniture  \n",
       "2         3  Office Supplies  \n",
       "3         2  Office Supplies  \n",
       "4         2  Office Supplies  "
      ]
     },
     "execution_count": 25,
     "metadata": {
      "tags": []
     },
     "output_type": "execute_result"
    }
   ],
   "source": [
    "orders_break_down.head()"
   ]
  },
  {
   "cell_type": "markdown",
   "metadata": {
    "colab_type": "text",
    "id": "lB9YvqpKhEEY"
   },
   "source": [
    "#### 2. Replace Space with Underscore in Column Names"
   ]
  },
  {
   "cell_type": "code",
   "execution_count": 0,
   "metadata": {
    "ExecuteTime": {
     "end_time": "2019-03-21T03:18:03.275638Z",
     "start_time": "2019-03-21T03:18:03.269624Z"
    },
    "colab": {},
    "colab_type": "code",
    "id": "ICMk2oRAhEEZ"
   },
   "outputs": [],
   "source": [
    "# ANSWER\n",
    "orders.columns = [o.replace(' ', '_') for o in orders.columns.str.lower()]"
   ]
  },
  {
   "cell_type": "code",
   "execution_count": 0,
   "metadata": {
    "ExecuteTime": {
     "end_time": "2019-03-21T03:18:32.931223Z",
     "start_time": "2019-03-21T03:18:32.925208Z"
    },
    "colab": {},
    "colab_type": "code",
    "id": "PZQ0WBbLhEEc"
   },
   "outputs": [],
   "source": [
    "# ANSWER\n",
    "orders_break_down.columns = [o.replace(' ', '_') for o in orders_break_down.columns.str.lower()]"
   ]
  },
  {
   "cell_type": "markdown",
   "metadata": {
    "colab_type": "text",
    "id": "u11trn6HhEEg"
   },
   "source": [
    "#### 3. Check DataTypes "
   ]
  },
  {
   "cell_type": "code",
   "execution_count": 0,
   "metadata": {
    "ExecuteTime": {
     "end_time": "2019-03-21T03:20:00.147608Z",
     "start_time": "2019-03-21T03:20:00.140627Z"
    },
    "colab": {},
    "colab_type": "code",
    "id": "1XvSDzIqhEEh",
    "outputId": "3970ec4b-52e8-4075-a450-7ac2d1cf62a5"
   },
   "outputs": [
    {
     "data": {
      "text/plain": [
       "Order ID         object\n",
       "Order Date       object\n",
       "Customer Name    object\n",
       "Country          object\n",
       "dtype: object"
      ]
     },
     "execution_count": 29,
     "metadata": {
      "tags": []
     },
     "output_type": "execute_result"
    }
   ],
   "source": [
    "# ANSWER\n",
    "orders.dtypes"
   ]
  },
  {
   "cell_type": "code",
   "execution_count": 0,
   "metadata": {
    "ExecuteTime": {
     "end_time": "2019-03-21T03:20:17.053453Z",
     "start_time": "2019-03-21T03:20:17.041477Z"
    },
    "colab": {},
    "colab_type": "code",
    "id": "nqNNnTiUhEEj",
    "outputId": "5afac8cc-78e5-4f57-9d96-6d5aa4d122b4"
   },
   "outputs": [
    {
     "data": {
      "text/plain": [
       "order_id         object\n",
       "product_name     object\n",
       "discount        float64\n",
       "sales           float64\n",
       "quantity          int64\n",
       "category         object\n",
       "dtype: object"
      ]
     },
     "execution_count": 30,
     "metadata": {
      "tags": []
     },
     "output_type": "execute_result"
    }
   ],
   "source": [
    "# ANSWER\n",
    "orders_break_down.dtypes"
   ]
  },
  {
   "cell_type": "markdown",
   "metadata": {
    "colab_type": "text",
    "id": "wmw7wdLxhEEn"
   },
   "source": [
    "#### 4. Save these two dataframes as a table in sqlite"
   ]
  },
  {
   "cell_type": "code",
   "execution_count": 0,
   "metadata": {
    "ExecuteTime": {
     "end_time": "2019-03-21T03:23:22.310290Z",
     "start_time": "2019-03-21T03:23:22.212386Z"
    },
    "colab": {},
    "colab_type": "code",
    "id": "IeFCwG7hhEEo"
   },
   "outputs": [],
   "source": [
    "# Establishing Local DB connection\n",
    "db_connection = sqlite3.connect('../DATA/eshop.db.sqlite')\n",
    "\n",
    "# Save these two dataframes as a table in sqlite"
   ]
  },
  {
   "cell_type": "markdown",
   "metadata": {
    "colab_type": "text",
    "id": "5UoZC5cOhEEr"
   },
   "source": [
    "#### 5. Select Number of Orders for Each Customer"
   ]
  },
  {
   "cell_type": "markdown",
   "metadata": {},
   "source": [
    "We can use the `sql` function in `pandas.io` to run SQL queries to the database with the `.read_sql()` method. Here's an example:"
   ]
  },
  {
   "cell_type": "code",
   "execution_count": null,
   "metadata": {},
   "outputs": [],
   "source": [
    "# Select first 10 rows of all columns in orders table\n",
    "\n",
    "query = \"\"\"\n",
    "        SELECT * \n",
    "        FROM orders \n",
    "        LIMIT 10;\n",
    "        \"\"\"\n",
    "\n",
    "orders_head_10 = sql.read_sql(query, con=db_connection)\n",
    "orders_head_10"
   ]
  },
  {
   "cell_type": "code",
   "execution_count": 0,
   "metadata": {
    "ExecuteTime": {
     "end_time": "2019-03-21T03:31:48.381069Z",
     "start_time": "2019-03-21T03:31:48.359128Z"
    },
    "colab": {},
    "colab_type": "code",
    "id": "aIqdAoTnhEEr"
   },
   "outputs": [],
   "source": [
    "# Select Number of Orders for Each Customer"
   ]
  },
  {
   "cell_type": "markdown",
   "metadata": {
    "colab_type": "text",
    "id": "GE91fL7thEE2"
   },
   "source": [
    "#### 6. Select Number of Customers for Each Country"
   ]
  },
  {
   "cell_type": "code",
   "execution_count": 0,
   "metadata": {
    "ExecuteTime": {
     "end_time": "2019-03-21T03:34:57.019169Z",
     "start_time": "2019-03-21T03:34:57.000244Z"
    },
    "colab": {},
    "colab_type": "code",
    "id": "ZIfcGHCJhEE2"
   },
   "outputs": [],
   "source": [
    "# Select Number of Customers for Each Country"
   ]
  },
  {
   "cell_type": "markdown",
   "metadata": {
    "colab_type": "text",
    "id": "fIBpY4KjhEE5"
   },
   "source": [
    "#### 7.A Select discount, sales, quantity for Each Order from orders_break_down Table"
   ]
  },
  {
   "cell_type": "code",
   "execution_count": 0,
   "metadata": {
    "ExecuteTime": {
     "end_time": "2019-03-21T03:37:54.802697Z",
     "start_time": "2019-03-21T03:37:54.774773Z"
    },
    "colab": {},
    "colab_type": "code",
    "id": "L_HKwM5BhEE6"
   },
   "outputs": [],
   "source": [
    "#  Select discount, sales, quantity for Each Order from orders_break_down Table"
   ]
  },
  {
   "cell_type": "markdown",
   "metadata": {
    "colab_type": "text",
    "id": "-R-ObbBfhEE_"
   },
   "source": [
    "#### 7.B Select discount, sales, quantity, total price for Each Order from orders_break_down Table\n",
    "\n",
    "> Total Price = sales * quantity - discount"
   ]
  },
  {
   "cell_type": "code",
   "execution_count": 0,
   "metadata": {
    "ExecuteTime": {
     "end_time": "2019-03-21T03:39:34.392179Z",
     "start_time": "2019-03-21T03:39:34.349294Z"
    },
    "colab": {},
    "colab_type": "code",
    "id": "J9KbOXChhEE_"
   },
   "outputs": [],
   "source": [
    "# Select discount, sales, quantity, total price for Each Order from orders_break_down Table"
   ]
  },
  {
   "cell_type": "markdown",
   "metadata": {
    "ExecuteTime": {
     "end_time": "2019-03-21T03:42:08.012935Z",
     "start_time": "2019-03-21T03:42:08.008947Z"
    },
    "colab_type": "text",
    "id": "2hM2p7HChEFB"
   },
   "source": [
    "#### 7.C Select All Orders from orders_break_down Table Where Total Price Greater Than 100"
   ]
  },
  {
   "cell_type": "code",
   "execution_count": 0,
   "metadata": {
    "ExecuteTime": {
     "end_time": "2019-03-21T03:42:42.744917Z",
     "start_time": "2019-03-21T03:42:42.709011Z"
    },
    "colab": {},
    "colab_type": "code",
    "id": "8aj0ZZrthEFC"
   },
   "outputs": [],
   "source": [
    "# Select All Orders from orders_break_down Table Where Total Price Greater Than 100"
   ]
  },
  {
   "cell_type": "markdown",
   "metadata": {
    "colab_type": "text",
    "id": "qAgJAmudhEFF"
   },
   "source": [
    "#### 8. Select All Customer And The Product They Have Bought"
   ]
  },
  {
   "cell_type": "code",
   "execution_count": 0,
   "metadata": {
    "ExecuteTime": {
     "end_time": "2019-03-21T03:48:23.774361Z",
     "start_time": "2019-03-21T03:48:23.719474Z"
    },
    "colab": {},
    "colab_type": "code",
    "id": "HzKZ71SmhEFG"
   },
   "outputs": [],
   "source": [
    "# Select All Customer And The Product They Have Bought"
   ]
  },
  {
   "cell_type": "markdown",
   "metadata": {
    "ExecuteTime": {
     "end_time": "2019-03-21T03:50:32.122897Z",
     "start_time": "2019-03-21T03:50:32.116914Z"
    },
    "colab_type": "text",
    "id": "fWIg7LjUhEFK"
   },
   "source": [
    "#### 9.A Select Number of 'Furniture' Orders For Each Country "
   ]
  },
  {
   "cell_type": "code",
   "execution_count": 0,
   "metadata": {
    "ExecuteTime": {
     "end_time": "2019-03-21T03:56:42.800404Z",
     "start_time": "2019-03-21T03:56:42.759513Z"
    },
    "colab": {},
    "colab_type": "code",
    "id": "061N5XX9hEFK"
   },
   "outputs": [],
   "source": [
    "# Select Number of 'Furniture' Orders For Each Country"
   ]
  },
  {
   "cell_type": "markdown",
   "metadata": {
    "colab_type": "text",
    "id": "0jvgrcyGhEFO"
   },
   "source": [
    "#### 9.B Select Number of 'Furniture' Orders For The Country Denmark"
   ]
  },
  {
   "cell_type": "code",
   "execution_count": 0,
   "metadata": {
    "ExecuteTime": {
     "end_time": "2019-03-21T03:58:15.794528Z",
     "start_time": "2019-03-21T03:58:15.757627Z"
    },
    "colab": {},
    "colab_type": "code",
    "id": "BjUN6GphhEFP"
   },
   "outputs": [],
   "source": [
    "# Select Number of 'Furniture' Orders For The Country Denmark"
   ]
  },
  {
   "cell_type": "markdown",
   "metadata": {
    "colab_type": "text",
    "id": "DvDJGO8ghEFU"
   },
   "source": [
    "#### 10. Select Total Sales With Discount and Without Discount for Each Country"
   ]
  },
  {
   "cell_type": "code",
   "execution_count": 0,
   "metadata": {
    "ExecuteTime": {
     "end_time": "2019-03-21T04:06:53.787002Z",
     "start_time": "2019-03-21T04:06:53.744143Z"
    },
    "colab": {},
    "colab_type": "code",
    "id": "M6FiccIGhEFU"
   },
   "outputs": [],
   "source": [
    "# Select Total Sales With Discount and Without Discount for Each Country"
   ]
  },
  {
   "cell_type": "markdown",
   "metadata": {
    "colab_type": "text",
    "id": "72ARIXw2hEFb"
   },
   "source": [
    "#### 11.A Select Total Quantity, Total Sales for Each Country"
   ]
  },
  {
   "cell_type": "code",
   "execution_count": 0,
   "metadata": {
    "ExecuteTime": {
     "end_time": "2019-03-21T04:08:01.475925Z",
     "start_time": "2019-03-21T04:08:01.427057Z"
    },
    "colab": {},
    "colab_type": "code",
    "id": "Fik5zcqJhEFe"
   },
   "outputs": [],
   "source": [
    "# Select Total Quantity, Total Sales for Each Country"
   ]
  },
  {
   "cell_type": "markdown",
   "metadata": {
    "ExecuteTime": {
     "end_time": "2019-03-21T04:09:40.290543Z",
     "start_time": "2019-03-21T04:09:40.284556Z"
    },
    "colab_type": "text",
    "id": "tldREt1phEFh"
   },
   "source": [
    "#### 11.B Select Top 3 Country Based on Sales"
   ]
  },
  {
   "cell_type": "code",
   "execution_count": 0,
   "metadata": {
    "ExecuteTime": {
     "end_time": "2019-03-21T04:11:24.632174Z",
     "start_time": "2019-03-21T04:11:24.619209Z"
    },
    "colab": {},
    "colab_type": "code",
    "id": "T0TJjtLBhEFi"
   },
   "outputs": [],
   "source": [
    "# Select Top 3 Country Based on Sales"
   ]
  },
  {
   "cell_type": "markdown",
   "metadata": {
    "colab_type": "text",
    "id": "M3zrxwdGhEFk"
   },
   "source": [
    "#### 11.C Select Bottom 3 Country Based On Quantities"
   ]
  },
  {
   "cell_type": "code",
   "execution_count": 0,
   "metadata": {
    "ExecuteTime": {
     "end_time": "2019-03-21T04:12:43.968759Z",
     "start_time": "2019-03-21T04:12:43.953799Z"
    },
    "colab": {},
    "colab_type": "code",
    "id": "XzSLPcv6hEFl"
   },
   "outputs": [],
   "source": [
    "# Select Bottom 3 Country Based On Quantities"
   ]
  },
  {
   "cell_type": "markdown",
   "metadata": {
    "ExecuteTime": {
     "end_time": "2019-03-21T04:15:46.751912Z",
     "start_time": "2019-03-21T04:15:46.745926Z"
    },
    "colab_type": "text",
    "id": "45ondjLLhEFo"
   },
   "source": [
    "#### 12. Select Average Sales By Categroy For The Country 'France'"
   ]
  },
  {
   "cell_type": "code",
   "execution_count": 0,
   "metadata": {
    "ExecuteTime": {
     "end_time": "2019-03-21T04:19:05.858570Z",
     "start_time": "2019-03-21T04:19:05.813681Z"
    },
    "colab": {},
    "colab_type": "code",
    "id": "BwiyYRSThEFp"
   },
   "outputs": [],
   "source": [
    "# Select Average Sales By Categroy For The Country 'France'"
   ]
  },
  {
   "cell_type": "markdown",
   "metadata": {
    "colab_type": "text",
    "id": "Nsk-d3DyhEFs"
   },
   "source": [
    "#### 13. Select Country, Category and Total Sales Where Average Total Sales is The Highest"
   ]
  },
  {
   "cell_type": "code",
   "execution_count": 0,
   "metadata": {
    "ExecuteTime": {
     "end_time": "2019-03-21T04:21:04.081648Z",
     "start_time": "2019-03-21T04:21:04.038731Z"
    },
    "colab": {},
    "colab_type": "code",
    "id": "yRK9ccVLhEFs"
   },
   "outputs": [],
   "source": [
    "# Select Country, Category and Total Sales Where Average Total Sales is The Highest"
   ]
  },
  {
   "cell_type": "markdown",
   "metadata": {
    "colab_type": "text",
    "heading_collapsed": true,
    "id": "yNowUy0BlJQu"
   },
   "source": [
    "### JOINS\n",
    "\n",
    "Below is a link to a handy reference for SQL joins. In this chart joins are represented in terms of sets and venn diagrams. \n",
    "https://www.codeproject.com/Articles/33052/Visual-Representation-of-SQL-Joins\n",
    "\n",
    "Alternatively, remember the merge functionality of pandas.\n",
    "https://github.com/pandas-dev/pandas/blob/master/doc/cheatsheet/Pandas_Cheat_Sheet.pdf"
   ]
  },
  {
   "cell_type": "markdown",
   "metadata": {
    "colab_type": "text",
    "id": "Jp0fdXBelJQv"
   },
   "source": [
    "### ADDITIONAL RESOURCES\n",
    "\n",
    "- [sqlite3 home](http://www.sqlite.org)  \n",
    "- [sqlite3 Python documentation](https://docs.python.org/3/library/sqlite3.html)\n",
    "- [SQLite Python tutorial](http://sebastianraschka.com/Articles/2014_sqlite_in_python_tutorial.html)  \n",
    "- [SQL zoo](http://www.sqlzoo.net)  Great for learning syntax"
   ]
  },
  {
   "cell_type": "markdown",
   "metadata": {
    "colab_type": "text",
    "id": "H6EyH-b4wGV5"
   },
   "source": [
    "\n",
    "\n",
    "---\n",
    "\n",
    "\n",
    "\n",
    "---\n",
    "\n",
    "\n",
    "\n",
    "> > > > > > > > > © 2021 Institute of Data\n",
    "\n",
    "\n",
    "---\n",
    "\n",
    "\n",
    "\n",
    "---\n",
    "\n",
    "\n",
    "\n"
   ]
  }
 ],
 "metadata": {
  "colab": {
   "collapsed_sections": [],
   "name": "DSIA Lab 2.1.3.ipynb",
   "provenance": []
  },
  "kernelspec": {
   "display_name": "Python 3",
   "language": "python",
   "name": "python3"
  },
  "language_info": {
   "codemirror_mode": {
    "name": "ipython",
    "version": 3
   },
   "file_extension": ".py",
   "mimetype": "text/x-python",
   "name": "python",
   "nbconvert_exporter": "python",
   "pygments_lexer": "ipython3",
   "version": "3.8.10"
  }
 },
 "nbformat": 4,
 "nbformat_minor": 1
}
