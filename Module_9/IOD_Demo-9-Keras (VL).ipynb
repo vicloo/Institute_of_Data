{
 "cells": [
  {
   "cell_type": "markdown",
   "metadata": {
    "id": "26KthBFty-QG"
   },
   "source": [
    "<div>\n",
    "<img src=https://www.institutedata.com/wp-content/uploads/2019/10/iod_h_tp_primary_c.svg width=\"300\">\n",
    "</div>"
   ]
  },
  {
   "cell_type": "markdown",
   "metadata": {
    "id": "W5NydEUxy-QJ"
   },
   "source": [
    "# Demo: NN with Keras\n",
    "INSTRUCTIONS:\n",
    "- Run the cells\n",
    "- Observe and understand the results\n",
    "- Answer the questions"
   ]
  },
  {
   "cell_type": "markdown",
   "metadata": {
    "id": "9n746euhy-QN"
   },
   "source": [
    "## Written digits classification with Keras"
   ]
  },
  {
   "cell_type": "code",
   "execution_count": 1,
   "metadata": {
    "colab": {
     "base_uri": "https://localhost:8080/",
     "height": 34
    },
    "executionInfo": {
     "elapsed": 2928,
     "status": "ok",
     "timestamp": 1592824749653,
     "user": {
      "displayName": "Mai Anh Ly",
      "photoUrl": "https://lh3.googleusercontent.com/a-/AOh14Gj3m3ePWBwBFT7szOlaK8W7lylc_ZnY93J_HKbY5EYiLuSsLy7FtOhGAmfpk-co2FX3NdvOSoUHAjcKyRo5fYAxzXGwBuB_Scz8EEoI0Sd99Sg0jA2hPKbGGL6l3OXXH3RcebQAVwm8daKZ2HaryKtOGaYPEs9Xm4WwmZilYvP12BkymjKBBw7wXJMbb_FMuYXiSJ7kmY0DWt455ZoAKqVSJa8qwbs2DTI_8qb-mnSxDEsvUDfWP5HYXMJ0-_ZkGM3e4Ar7WqqeTz_ra4LyeKayfg3WeqVtxylbHQIDlD2SoYjxZBk1F9dK1eYMhV9norQqhOu7Vd-ye50GdIbvJT8-QvhH3mj6uskBTzXPrA1fEo302QbdbXAVY3r8PvhwuUw4aJtvHHsk37YZNZ36XzswOyKGtKP7YQr9nItYSOQ8ZmWzlJojcN0uHH1RFCoshmE-ncc5Vf8-0LXicZIQp4x8HCIVH93zt4_P9E3PyrYf5mw9oOzmxcBIX3u9yuRv_K3-XV9oUJTZRFCBOqP3phE4KUy_Hwn2ZSv0cfUiuFz5XpPAjvO6hYAsZTayx4_Tr-REFcps30D5U05ItXMetcHTu4JM9Yvg624ZAgWv6NZ526HoOcOja57kG4pX8lmBpLnL6r9bb7PolwB2hpZuZ1Ma4wzL6EG3xNS9VJzMmyN0nZTqf_05jxnnn0wsvqcUAhRqK9PbPxfieRzYPTE20QrMG6gxUrSZ9PDWIMEm5YAYgZb7dZU7_k51mccLXc2mEA=s64",
      "userId": "16059923818223643809"
     },
     "user_tz": -600
    },
    "id": "hJgb9UC1y-QQ",
    "outputId": "a21eacbd-ae6c-4e7d-dd78-d9ea165fbbb9"
   },
   "outputs": [],
   "source": [
    "## Import libraries\n",
    "import numpy as np\n",
    "\n",
    "%matplotlib inline\n",
    "import matplotlib.pyplot as plt\n",
    "\n",
    "from sklearn.datasets import load_digits\n",
    "from sklearn.metrics import confusion_matrix\n",
    "from sklearn.model_selection import train_test_split\n",
    "\n",
    "# import keras\n",
    "from tensorflow.keras.models import Sequential\n",
    "from tensorflow.keras.layers import Dense\n",
    "from tensorflow.keras.utils import to_categorical"
   ]
  },
  {
   "cell_type": "code",
   "execution_count": 2,
   "metadata": {
    "id": "0tQuyTyyy-QZ"
   },
   "outputs": [],
   "source": [
    "# The digits dataset\n",
    "digits = load_digits()"
   ]
  },
  {
   "cell_type": "code",
   "execution_count": 3,
   "metadata": {
    "colab": {
     "base_uri": "https://localhost:8080/",
     "height": 826
    },
    "executionInfo": {
     "elapsed": 937,
     "status": "ok",
     "timestamp": 1592824754743,
     "user": {
      "displayName": "Mai Anh Ly",
      "photoUrl": "https://lh3.googleusercontent.com/a-/AOh14Gj3m3ePWBwBFT7szOlaK8W7lylc_ZnY93J_HKbY5EYiLuSsLy7FtOhGAmfpk-co2FX3NdvOSoUHAjcKyRo5fYAxzXGwBuB_Scz8EEoI0Sd99Sg0jA2hPKbGGL6l3OXXH3RcebQAVwm8daKZ2HaryKtOGaYPEs9Xm4WwmZilYvP12BkymjKBBw7wXJMbb_FMuYXiSJ7kmY0DWt455ZoAKqVSJa8qwbs2DTI_8qb-mnSxDEsvUDfWP5HYXMJ0-_ZkGM3e4Ar7WqqeTz_ra4LyeKayfg3WeqVtxylbHQIDlD2SoYjxZBk1F9dK1eYMhV9norQqhOu7Vd-ye50GdIbvJT8-QvhH3mj6uskBTzXPrA1fEo302QbdbXAVY3r8PvhwuUw4aJtvHHsk37YZNZ36XzswOyKGtKP7YQr9nItYSOQ8ZmWzlJojcN0uHH1RFCoshmE-ncc5Vf8-0LXicZIQp4x8HCIVH93zt4_P9E3PyrYf5mw9oOzmxcBIX3u9yuRv_K3-XV9oUJTZRFCBOqP3phE4KUy_Hwn2ZSv0cfUiuFz5XpPAjvO6hYAsZTayx4_Tr-REFcps30D5U05ItXMetcHTu4JM9Yvg624ZAgWv6NZ526HoOcOja57kG4pX8lmBpLnL6r9bb7PolwB2hpZuZ1Ma4wzL6EG3xNS9VJzMmyN0nZTqf_05jxnnn0wsvqcUAhRqK9PbPxfieRzYPTE20QrMG6gxUrSZ9PDWIMEm5YAYgZb7dZU7_k51mccLXc2mEA=s64",
      "userId": "16059923818223643809"
     },
     "user_tz": -600
    },
    "id": "Zn2DiwPXy-Qd",
    "outputId": "35034698-a503-4771-8176-a6a24a2aa06d"
   },
   "outputs": [
    {
     "name": "stdout",
     "output_type": "stream",
     "text": [
      ".. _digits_dataset:\n",
      "\n",
      "Optical recognition of handwritten digits dataset\n",
      "--------------------------------------------------\n",
      "\n",
      "**Data Set Characteristics:**\n",
      "\n",
      "    :Number of Instances: 1797\n",
      "    :Number of Attributes: 64\n",
      "    :Attribute Information: 8x8 image of integer pixels in the range 0..16.\n",
      "    :Missing Attribute Values: None\n",
      "    :Creator: E. Alpaydin (alpaydin '@' boun.edu.tr)\n",
      "    :Date: July; 1998\n",
      "\n",
      "This is a copy of the test set of the UCI ML hand-written digits datasets\n",
      "https://archive.ics.uci.edu/ml/datasets/Optical+Recognition+of+Handwritten+Digits\n",
      "\n",
      "The data set contains images of hand-written digits: 10 classes where\n",
      "each class refers to a digit.\n",
      "\n",
      "Preprocessing programs made available by NIST were used to extract\n",
      "normalized bitmaps of handwritten digits from a preprinted form. From a\n",
      "total of 43 people, 30 contributed to the training set and different 13\n",
      "to the test set. 32x32 bitmaps are divided into nonoverlapping blocks of\n",
      "4x4 and the number of on pixels are counted in each block. This generates\n",
      "an input matrix of 8x8 where each element is an integer in the range\n",
      "0..16. This reduces dimensionality and gives invariance to small\n",
      "distortions.\n",
      "\n",
      "For info on NIST preprocessing routines, see M. D. Garris, J. L. Blue, G.\n",
      "T. Candela, D. L. Dimmick, J. Geist, P. J. Grother, S. A. Janet, and C.\n",
      "L. Wilson, NIST Form-Based Handprint Recognition System, NISTIR 5469,\n",
      "1994.\n",
      "\n",
      ".. topic:: References\n",
      "\n",
      "  - C. Kaynak (1995) Methods of Combining Multiple Classifiers and Their\n",
      "    Applications to Handwritten Digit Recognition, MSc Thesis, Institute of\n",
      "    Graduate Studies in Science and Engineering, Bogazici University.\n",
      "  - E. Alpaydin, C. Kaynak (1998) Cascading Classifiers, Kybernetika.\n",
      "  - Ken Tang and Ponnuthurai N. Suganthan and Xi Yao and A. Kai Qin.\n",
      "    Linear dimensionalityreduction using relevance weighted LDA. School of\n",
      "    Electrical and Electronic Engineering Nanyang Technological University.\n",
      "    2005.\n",
      "  - Claudio Gentile. A New Approximate Maximal Margin Classification\n",
      "    Algorithm. NIPS. 2000.\n",
      "\n"
     ]
    }
   ],
   "source": [
    "print(digits.DESCR)"
   ]
  },
  {
   "cell_type": "code",
   "execution_count": 5,
   "metadata": {},
   "outputs": [
    {
     "data": {
      "text/plain": [
       "array([0, 1, 2, ..., 8, 9, 8])"
      ]
     },
     "execution_count": 5,
     "metadata": {},
     "output_type": "execute_result"
    }
   ],
   "source": [
    "digits.target   #target is a multiclass"
   ]
  },
  {
   "cell_type": "code",
   "execution_count": 12,
   "metadata": {},
   "outputs": [
    {
     "data": {
      "text/plain": [
       "array([[[ 0.,  0.,  5., ...,  1.,  0.,  0.],\n",
       "        [ 0.,  0., 13., ..., 15.,  5.,  0.],\n",
       "        [ 0.,  3., 15., ..., 11.,  8.,  0.],\n",
       "        ...,\n",
       "        [ 0.,  4., 11., ..., 12.,  7.,  0.],\n",
       "        [ 0.,  2., 14., ..., 12.,  0.,  0.],\n",
       "        [ 0.,  0.,  6., ...,  0.,  0.,  0.]],\n",
       "\n",
       "       [[ 0.,  0.,  0., ...,  5.,  0.,  0.],\n",
       "        [ 0.,  0.,  0., ...,  9.,  0.,  0.],\n",
       "        [ 0.,  0.,  3., ...,  6.,  0.,  0.],\n",
       "        ...,\n",
       "        [ 0.,  0.,  1., ...,  6.,  0.,  0.],\n",
       "        [ 0.,  0.,  1., ...,  6.,  0.,  0.],\n",
       "        [ 0.,  0.,  0., ..., 10.,  0.,  0.]],\n",
       "\n",
       "       [[ 0.,  0.,  0., ..., 12.,  0.,  0.],\n",
       "        [ 0.,  0.,  3., ..., 14.,  0.,  0.],\n",
       "        [ 0.,  0.,  8., ..., 16.,  0.,  0.],\n",
       "        ...,\n",
       "        [ 0.,  9., 16., ...,  0.,  0.,  0.],\n",
       "        [ 0.,  3., 13., ..., 11.,  5.,  0.],\n",
       "        [ 0.,  0.,  0., ..., 16.,  9.,  0.]],\n",
       "\n",
       "       ...,\n",
       "\n",
       "       [[ 0.,  0.,  1., ...,  1.,  0.,  0.],\n",
       "        [ 0.,  0., 13., ...,  2.,  1.,  0.],\n",
       "        [ 0.,  0., 16., ..., 16.,  5.,  0.],\n",
       "        ...,\n",
       "        [ 0.,  0., 16., ..., 15.,  0.,  0.],\n",
       "        [ 0.,  0., 15., ..., 16.,  0.,  0.],\n",
       "        [ 0.,  0.,  2., ...,  6.,  0.,  0.]],\n",
       "\n",
       "       [[ 0.,  0.,  2., ...,  0.,  0.,  0.],\n",
       "        [ 0.,  0., 14., ..., 15.,  1.,  0.],\n",
       "        [ 0.,  4., 16., ..., 16.,  7.,  0.],\n",
       "        ...,\n",
       "        [ 0.,  0.,  0., ..., 16.,  2.,  0.],\n",
       "        [ 0.,  0.,  4., ..., 16.,  2.,  0.],\n",
       "        [ 0.,  0.,  5., ..., 12.,  0.,  0.]],\n",
       "\n",
       "       [[ 0.,  0., 10., ...,  1.,  0.,  0.],\n",
       "        [ 0.,  2., 16., ...,  1.,  0.,  0.],\n",
       "        [ 0.,  0., 15., ..., 15.,  0.,  0.],\n",
       "        ...,\n",
       "        [ 0.,  4., 16., ..., 16.,  6.,  0.],\n",
       "        [ 0.,  8., 16., ..., 16.,  8.,  0.],\n",
       "        [ 0.,  1.,  8., ..., 12.,  1.,  0.]]])"
      ]
     },
     "execution_count": 12,
     "metadata": {},
     "output_type": "execute_result"
    }
   ],
   "source": [
    "digits.images"
   ]
  },
  {
   "cell_type": "code",
   "execution_count": 6,
   "metadata": {},
   "outputs": [
    {
     "data": {
      "text/plain": [
       "1797"
      ]
     },
     "execution_count": 6,
     "metadata": {},
     "output_type": "execute_result"
    }
   ],
   "source": [
    "len(digits.target)"
   ]
  },
  {
   "cell_type": "code",
   "execution_count": 7,
   "metadata": {},
   "outputs": [
    {
     "data": {
      "text/plain": [
       "array([[ 0.,  0.,  5., 13.,  9.,  1.,  0.,  0.],\n",
       "       [ 0.,  0., 13., 15., 10., 15.,  5.,  0.],\n",
       "       [ 0.,  3., 15.,  2.,  0., 11.,  8.,  0.],\n",
       "       [ 0.,  4., 12.,  0.,  0.,  8.,  8.,  0.],\n",
       "       [ 0.,  5.,  8.,  0.,  0.,  9.,  8.,  0.],\n",
       "       [ 0.,  4., 11.,  0.,  1., 12.,  7.,  0.],\n",
       "       [ 0.,  2., 14.,  5., 10., 12.,  0.,  0.],\n",
       "       [ 0.,  0.,  6., 13., 10.,  0.,  0.,  0.]])"
      ]
     },
     "execution_count": 7,
     "metadata": {},
     "output_type": "execute_result"
    }
   ],
   "source": [
    "digits.images[0]"
   ]
  },
  {
   "cell_type": "code",
   "execution_count": 9,
   "metadata": {},
   "outputs": [
    {
     "data": {
      "text/plain": [
       "array([[ 0.,  0., 10., 14.,  8.,  1.,  0.,  0.],\n",
       "       [ 0.,  2., 16., 14.,  6.,  1.,  0.,  0.],\n",
       "       [ 0.,  0., 15., 15.,  8., 15.,  0.,  0.],\n",
       "       [ 0.,  0.,  5., 16., 16., 10.,  0.,  0.],\n",
       "       [ 0.,  0., 12., 15., 15., 12.,  0.,  0.],\n",
       "       [ 0.,  4., 16.,  6.,  4., 16.,  6.,  0.],\n",
       "       [ 0.,  8., 16., 10.,  8., 16.,  8.,  0.],\n",
       "       [ 0.,  1.,  8., 12., 14., 12.,  1.,  0.]])"
      ]
     },
     "execution_count": 9,
     "metadata": {},
     "output_type": "execute_result"
    }
   ],
   "source": [
    "digits.images[1796]   #with human eye, we cant determine what number is this image, but with CNN, we can "
   ]
  },
  {
   "cell_type": "code",
   "execution_count": 10,
   "metadata": {},
   "outputs": [
    {
     "data": {
      "text/plain": [
       "<matplotlib.image.AxesImage at 0x1a3fde89b80>"
      ]
     },
     "execution_count": 10,
     "metadata": {},
     "output_type": "execute_result"
    },
    {
     "data": {
      "image/png": "[encoded data removed]",
      "text/plain": [
       "<Figure size 432x288 with 1 Axes>"
      ]
     },
     "metadata": {
      "needs_background": "light"
     },
     "output_type": "display_data"
    }
   ],
   "source": [
    "plt.imshow(digits.images[1796])"
   ]
  },
  {
   "cell_type": "code",
   "execution_count": 11,
   "metadata": {},
   "outputs": [
    {
     "data": {
      "text/plain": [
       "<matplotlib.image.AxesImage at 0x1a3fdf00d60>"
      ]
     },
     "execution_count": 11,
     "metadata": {},
     "output_type": "execute_result"
    },
    {
     "data": {
      "image/png": "[encoded data removed]",
      "text/plain": [
       "<Figure size 432x288 with 1 Axes>"
      ]
     },
     "metadata": {
      "needs_background": "light"
     },
     "output_type": "display_data"
    }
   ],
   "source": [
    "plt.imshow(digits.images[1796], cmap ='gray')"
   ]
  },
  {
   "cell_type": "code",
   "execution_count": 13,
   "metadata": {
    "colab": {
     "base_uri": "https://localhost:8080/",
     "height": 147
    },
    "executionInfo": {
     "elapsed": 670,
     "status": "ok",
     "timestamp": 1560987197507,
     "user": {
      "displayName": "Ibrahim Faisal",
      "photoUrl": "https://lh3.googleusercontent.com/-67DMczu7rgM/AAAAAAAAAAI/AAAAAAAAAAc/6f5FCnBgxFs/s64/photo.jpg",
      "userId": "02685917636347920688"
     },
     "user_tz": -600
    },
    "id": "oi5lOrDYy-Qh",
    "outputId": "2efb7206-c6e1-4070-d8f5-57b76ffeea7c"
   },
   "outputs": [
    {
     "data": {
      "image/png": "[encoded data removed]",
      "text/plain": [
       "<Figure size 144x144 with 1 Axes>"
      ]
     },
     "metadata": {},
     "output_type": "display_data"
    }
   ],
   "source": [
    "id = np.random.randint(len(digits.target))\n",
    "plt.figure(figsize = (2, 2))\n",
    "plt.imshow(digits.images[id], cmap = 'gray')  #shows image\n",
    "plt.xticks([])  #removes \"ticker\"\n",
    "plt.yticks([])\n",
    "plt.show()"
   ]
  },
  {
   "cell_type": "code",
   "execution_count": 14,
   "metadata": {
    "id": "k-Wu4bQJy-Ql"
   },
   "outputs": [],
   "source": [
    "# Prepare input data\n",
    "# input\n",
    "X = digits.data.astype(np.uint8)  #changing integer 8 byte (\"good habit\")\n",
    "n_cols = X.shape[1]\n",
    "\n",
    "# output\n",
    "target = digits.target.astype(np.uint8)\n",
    "\n",
    "# Convert the target to categorical    #its similar to one hot encoding\n",
    "y = to_categorical(\n",
    "    target,\n",
    "    num_classes = len(set(target)),\n",
    "    dtype = 'uint8')"
   ]
  },
  {
   "cell_type": "code",
   "execution_count": 15,
   "metadata": {},
   "outputs": [
    {
     "data": {
      "text/plain": [
       "array([[ 0.,  0.,  5., ...,  0.,  0.,  0.],\n",
       "       [ 0.,  0.,  0., ..., 10.,  0.,  0.],\n",
       "       [ 0.,  0.,  0., ..., 16.,  9.,  0.],\n",
       "       ...,\n",
       "       [ 0.,  0.,  1., ...,  6.,  0.,  0.],\n",
       "       [ 0.,  0.,  2., ..., 12.,  0.,  0.],\n",
       "       [ 0.,  0., 10., ..., 12.,  1.,  0.]])"
      ]
     },
     "execution_count": 15,
     "metadata": {},
     "output_type": "execute_result"
    }
   ],
   "source": [
    "digits.data"
   ]
  },
  {
   "cell_type": "code",
   "execution_count": 16,
   "metadata": {},
   "outputs": [
    {
     "data": {
      "text/plain": [
       "(1797, 64)"
      ]
     },
     "execution_count": 16,
     "metadata": {},
     "output_type": "execute_result"
    }
   ],
   "source": [
    "X.shape"
   ]
  },
  {
   "cell_type": "code",
   "execution_count": 17,
   "metadata": {},
   "outputs": [
    {
     "data": {
      "text/plain": [
       "array([0, 1, 2, ..., 8, 9, 8])"
      ]
     },
     "execution_count": 17,
     "metadata": {},
     "output_type": "execute_result"
    }
   ],
   "source": [
    "digits.target"
   ]
  },
  {
   "cell_type": "code",
   "execution_count": 18,
   "metadata": {},
   "outputs": [
    {
     "data": {
      "text/plain": [
       "array([[1, 0, 0, ..., 0, 0, 0],\n",
       "       [0, 1, 0, ..., 0, 0, 0],\n",
       "       [0, 0, 1, ..., 0, 0, 0],\n",
       "       ...,\n",
       "       [0, 0, 0, ..., 0, 1, 0],\n",
       "       [0, 0, 0, ..., 0, 0, 1],\n",
       "       [0, 0, 0, ..., 0, 1, 0]], dtype=uint8)"
      ]
     },
     "execution_count": 18,
     "metadata": {},
     "output_type": "execute_result"
    }
   ],
   "source": [
    "y"
   ]
  },
  {
   "cell_type": "code",
   "execution_count": 19,
   "metadata": {
    "id": "nBFFtaWcy-Qo"
   },
   "outputs": [],
   "source": [
    "X_train, X_test, y_train, y_test = train_test_split(\n",
    "    X, y, \n",
    "    test_size = 0.3,\n",
    "    random_state = 65)"
   ]
  },
  {
   "cell_type": "code",
   "execution_count": 20,
   "metadata": {
    "id": "aKrm9Miqy-Qq"
   },
   "outputs": [],
   "source": [
    "# Set up the model architecture\n",
    "model = Sequential()"
   ]
  },
  {
   "cell_type": "code",
   "execution_count": 21,
   "metadata": {
    "id": "KC9AVmkFy-Qr"
   },
   "outputs": [],
   "source": [
    "# Add the first hidden layer\n",
    "model.add(Dense(100, activation = 'relu', input_shape = (n_cols, )))   #100 neurons, 64 features(inputshape), \n",
    "#theres a space in input shape bracket (n_cols, .....) because we want to test on all images 1767, if you want to test on just 100, then specify 100\n",
    "\n",
    "# Add the second hidden layer\n",
    "model.add(Dense(50, activation = 'relu'))   #can use different activation function for different hidden layers but not very commonly used \n",
    "\n",
    "# Add the output layer\n",
    "model.add(Dense(10, activation = 'softmax'))  #softmax is used because target is multiclass #10 neurons because there are 10 target variables (0-9) \n",
    "#the above line of code is only used for multiclass , for binary class , use \"sigmoid\" activation function"
   ]
  },
  {
   "cell_type": "code",
   "execution_count": 22,
   "metadata": {
    "colab": {
     "base_uri": "https://localhost:8080/",
     "height": 281
    },
    "executionInfo": {
     "elapsed": 3737,
     "status": "ok",
     "timestamp": 1592825439619,
     "user": {
      "displayName": "Mai Anh Ly",
      "photoUrl": "https://lh3.googleusercontent.com/a-/AOh14Gj3m3ePWBwBFT7szOlaK8W7lylc_ZnY93J_HKbY5EYiLuSsLy7FtOhGAmfpk-co2FX3NdvOSoUHAjcKyRo5fYAxzXGwBuB_Scz8EEoI0Sd99Sg0jA2hPKbGGL6l3OXXH3RcebQAVwm8daKZ2HaryKtOGaYPEs9Xm4WwmZilYvP12BkymjKBBw7wXJMbb_FMuYXiSJ7kmY0DWt455ZoAKqVSJa8qwbs2DTI_8qb-mnSxDEsvUDfWP5HYXMJ0-_ZkGM3e4Ar7WqqeTz_ra4LyeKayfg3WeqVtxylbHQIDlD2SoYjxZBk1F9dK1eYMhV9norQqhOu7Vd-ye50GdIbvJT8-QvhH3mj6uskBTzXPrA1fEo302QbdbXAVY3r8PvhwuUw4aJtvHHsk37YZNZ36XzswOyKGtKP7YQr9nItYSOQ8ZmWzlJojcN0uHH1RFCoshmE-ncc5Vf8-0LXicZIQp4x8HCIVH93zt4_P9E3PyrYf5mw9oOzmxcBIX3u9yuRv_K3-XV9oUJTZRFCBOqP3phE4KUy_Hwn2ZSv0cfUiuFz5XpPAjvO6hYAsZTayx4_Tr-REFcps30D5U05ItXMetcHTu4JM9Yvg624ZAgWv6NZ526HoOcOja57kG4pX8lmBpLnL6r9bb7PolwB2hpZuZ1Ma4wzL6EG3xNS9VJzMmyN0nZTqf_05jxnnn0wsvqcUAhRqK9PbPxfieRzYPTE20QrMG6gxUrSZ9PDWIMEm5YAYgZb7dZU7_k51mccLXc2mEA=s64",
      "userId": "16059923818223643809"
     },
     "user_tz": -600
    },
    "id": "05KgUEX8y-Qt",
    "outputId": "eb02ea89-956b-466a-913f-3904294686b4"
   },
   "outputs": [
    {
     "name": "stdout",
     "output_type": "stream",
     "text": [
      "Model: \"sequential\"\n",
      "_________________________________________________________________\n",
      "Layer (type)                 Output Shape              Param #   \n",
      "=================================================================\n",
      "dense (Dense)                (None, 100)               6500      \n",
      "_________________________________________________________________\n",
      "dense_1 (Dense)              (None, 50)                5050      \n",
      "_________________________________________________________________\n",
      "dense_2 (Dense)              (None, 10)                510       \n",
      "=================================================================\n",
      "Total params: 12,060\n",
      "Trainable params: 12,060\n",
      "Non-trainable params: 0\n",
      "_________________________________________________________________\n",
      "None\n"
     ]
    }
   ],
   "source": [
    "print(model.summary())   #there are total of 12060 trainabale parameters (of weights and bias) "
   ]
  },
  {
   "cell_type": "code",
   "execution_count": null,
   "metadata": {},
   "outputs": [],
   "source": [
    "#applying more hidden layers mean more computationally expensive"
   ]
  },
  {
   "cell_type": "code",
   "execution_count": 23,
   "metadata": {
    "id": "4eu9O-5Xy-Qv"
   },
   "outputs": [],
   "source": [
    "# Compile the model\n",
    "model.compile(optimizer = 'sgd', loss = 'categorical_crossentropy', metrics = ['accuracy'])\n",
    "\n",
    "#categorical crossentropy - for multiclass, if its binary class, a different cross entropy is chosen\n",
    "#can change metrics to recall, roc etc"
   ]
  },
  {
   "cell_type": "code",
   "execution_count": 26,
   "metadata": {
    "colab": {
     "base_uri": "https://localhost:8080/",
     "height": 1000
    },
    "executionInfo": {
     "elapsed": 20827,
     "status": "ok",
     "timestamp": 1592825467331,
     "user": {
      "displayName": "Mai Anh Ly",
      "photoUrl": "https://lh3.googleusercontent.com/a-/AOh14Gj3m3ePWBwBFT7szOlaK8W7lylc_ZnY93J_HKbY5EYiLuSsLy7FtOhGAmfpk-co2FX3NdvOSoUHAjcKyRo5fYAxzXGwBuB_Scz8EEoI0Sd99Sg0jA2hPKbGGL6l3OXXH3RcebQAVwm8daKZ2HaryKtOGaYPEs9Xm4WwmZilYvP12BkymjKBBw7wXJMbb_FMuYXiSJ7kmY0DWt455ZoAKqVSJa8qwbs2DTI_8qb-mnSxDEsvUDfWP5HYXMJ0-_ZkGM3e4Ar7WqqeTz_ra4LyeKayfg3WeqVtxylbHQIDlD2SoYjxZBk1F9dK1eYMhV9norQqhOu7Vd-ye50GdIbvJT8-QvhH3mj6uskBTzXPrA1fEo302QbdbXAVY3r8PvhwuUw4aJtvHHsk37YZNZ36XzswOyKGtKP7YQr9nItYSOQ8ZmWzlJojcN0uHH1RFCoshmE-ncc5Vf8-0LXicZIQp4x8HCIVH93zt4_P9E3PyrYf5mw9oOzmxcBIX3u9yuRv_K3-XV9oUJTZRFCBOqP3phE4KUy_Hwn2ZSv0cfUiuFz5XpPAjvO6hYAsZTayx4_Tr-REFcps30D5U05ItXMetcHTu4JM9Yvg624ZAgWv6NZ526HoOcOja57kG4pX8lmBpLnL6r9bb7PolwB2hpZuZ1Ma4wzL6EG3xNS9VJzMmyN0nZTqf_05jxnnn0wsvqcUAhRqK9PbPxfieRzYPTE20QrMG6gxUrSZ9PDWIMEm5YAYgZb7dZU7_k51mccLXc2mEA=s64",
      "userId": "16059923818223643809"
     },
     "user_tz": -600
    },
    "id": "DSnIhJ0My-Qw",
    "outputId": "26c418d2-14a1-43b2-de47-f64e320dbcb9",
    "scrolled": true
   },
   "outputs": [
    {
     "name": "stdout",
     "output_type": "stream",
     "text": [
      "Epoch 1/100\n",
      "48/48 [==============================] - 0s 1ms/step - loss: 8.3014e-04 - accuracy: 1.0000 - val_loss: 0.1303 - val_accuracy: 0.9714\n",
      "Epoch 2/100\n",
      "48/48 [==============================] - 0s 917us/step - loss: 8.2569e-04 - accuracy: 1.0000 - val_loss: 0.1300 - val_accuracy: 0.9714\n",
      "Epoch 3/100\n",
      "48/48 [==============================] - 0s 804us/step - loss: 8.2189e-04 - accuracy: 1.0000 - val_loss: 0.1305 - val_accuracy: 0.9714\n",
      "Epoch 4/100\n",
      "48/48 [==============================] - 0s 800us/step - loss: 8.1633e-04 - accuracy: 1.0000 - val_loss: 0.1308 - val_accuracy: 0.9714\n",
      "Epoch 5/100\n",
      "48/48 [==============================] - 0s 798us/step - loss: 8.1069e-04 - accuracy: 1.0000 - val_loss: 0.1306 - val_accuracy: 0.9714\n",
      "Epoch 6/100\n",
      "48/48 [==============================] - 0s 875us/step - loss: 8.0533e-04 - accuracy: 1.0000 - val_loss: 0.1310 - val_accuracy: 0.9714\n",
      "Epoch 7/100\n",
      "48/48 [==============================] - 0s 868us/step - loss: 8.0370e-04 - accuracy: 1.0000 - val_loss: 0.1353 - val_accuracy: 0.9746\n",
      "Epoch 8/100\n",
      "48/48 [==============================] - 0s 817us/step - loss: 8.2127e-04 - accuracy: 1.0000 - val_loss: 0.1328 - val_accuracy: 0.9714\n",
      "Epoch 9/100\n",
      "48/48 [==============================] - 0s 814us/step - loss: 7.9716e-04 - accuracy: 1.0000 - val_loss: 0.1314 - val_accuracy: 0.9714\n",
      "Epoch 10/100\n",
      "48/48 [==============================] - 0s 788us/step - loss: 7.8737e-04 - accuracy: 1.0000 - val_loss: 0.1321 - val_accuracy: 0.9714\n",
      "Epoch 11/100\n",
      "48/48 [==============================] - 0s 829us/step - loss: 7.8462e-04 - accuracy: 1.0000 - val_loss: 0.1319 - val_accuracy: 0.9714\n",
      "Epoch 12/100\n",
      "48/48 [==============================] - 0s 787us/step - loss: 7.7915e-04 - accuracy: 1.0000 - val_loss: 0.1319 - val_accuracy: 0.9714\n",
      "Epoch 13/100\n",
      "48/48 [==============================] - 0s 799us/step - loss: 7.7598e-04 - accuracy: 1.0000 - val_loss: 0.1315 - val_accuracy: 0.9714\n",
      "Epoch 14/100\n",
      "48/48 [==============================] - 0s 889us/step - loss: 7.7185e-04 - accuracy: 1.0000 - val_loss: 0.1299 - val_accuracy: 0.9714\n",
      "Epoch 15/100\n",
      "48/48 [==============================] - 0s 837us/step - loss: 7.6926e-04 - accuracy: 1.0000 - val_loss: 0.1311 - val_accuracy: 0.9714\n",
      "Epoch 16/100\n",
      "48/48 [==============================] - 0s 825us/step - loss: 7.6198e-04 - accuracy: 1.0000 - val_loss: 0.1327 - val_accuracy: 0.9714\n",
      "Epoch 17/100\n",
      "48/48 [==============================] - 0s 845us/step - loss: 7.5947e-04 - accuracy: 1.0000 - val_loss: 0.1319 - val_accuracy: 0.9714\n",
      "Epoch 18/100\n",
      "48/48 [==============================] - 0s 806us/step - loss: 7.5650e-04 - accuracy: 1.0000 - val_loss: 0.1316 - val_accuracy: 0.9714\n",
      "Epoch 19/100\n",
      "48/48 [==============================] - 0s 785us/step - loss: 7.5020e-04 - accuracy: 1.0000 - val_loss: 0.1299 - val_accuracy: 0.9714\n",
      "Epoch 20/100\n",
      "48/48 [==============================] - 0s 805us/step - loss: 7.5227e-04 - accuracy: 1.0000 - val_loss: 0.1309 - val_accuracy: 0.9714\n",
      "Epoch 21/100\n",
      "48/48 [==============================] - 0s 799us/step - loss: 7.4192e-04 - accuracy: 1.0000 - val_loss: 0.1318 - val_accuracy: 0.9714\n",
      "Epoch 22/100\n",
      "48/48 [==============================] - 0s 846us/step - loss: 7.3963e-04 - accuracy: 1.0000 - val_loss: 0.1311 - val_accuracy: 0.9714\n",
      "Epoch 23/100\n",
      "48/48 [==============================] - 0s 772us/step - loss: 7.3369e-04 - accuracy: 1.0000 - val_loss: 0.1321 - val_accuracy: 0.9714\n",
      "Epoch 24/100\n",
      "48/48 [==============================] - 0s 786us/step - loss: 7.3188e-04 - accuracy: 1.0000 - val_loss: 0.1318 - val_accuracy: 0.9714\n",
      "Epoch 25/100\n",
      "48/48 [==============================] - 0s 816us/step - loss: 7.2539e-04 - accuracy: 1.0000 - val_loss: 0.1314 - val_accuracy: 0.9714\n",
      "Epoch 26/100\n",
      "48/48 [==============================] - 0s 826us/step - loss: 7.2290e-04 - accuracy: 1.0000 - val_loss: 0.1317 - val_accuracy: 0.9714\n",
      "Epoch 27/100\n",
      "48/48 [==============================] - 0s 792us/step - loss: 7.2064e-04 - accuracy: 1.0000 - val_loss: 0.1315 - val_accuracy: 0.9714\n",
      "Epoch 28/100\n",
      "48/48 [==============================] - 0s 812us/step - loss: 7.1546e-04 - accuracy: 1.0000 - val_loss: 0.1301 - val_accuracy: 0.9714\n",
      "Epoch 29/100\n",
      "48/48 [==============================] - 0s 800us/step - loss: 7.1461e-04 - accuracy: 1.0000 - val_loss: 0.1306 - val_accuracy: 0.9714\n",
      "Epoch 30/100\n",
      "48/48 [==============================] - 0s 830us/step - loss: 7.0791e-04 - accuracy: 1.0000 - val_loss: 0.1336 - val_accuracy: 0.9714\n",
      "Epoch 31/100\n",
      "48/48 [==============================] - 0s 783us/step - loss: 7.0619e-04 - accuracy: 1.0000 - val_loss: 0.1344 - val_accuracy: 0.9714\n",
      "Epoch 32/100\n",
      "48/48 [==============================] - 0s 821us/step - loss: 7.0266e-04 - accuracy: 1.0000 - val_loss: 0.1339 - val_accuracy: 0.9714\n",
      "Epoch 33/100\n",
      "48/48 [==============================] - 0s 787us/step - loss: 6.9827e-04 - accuracy: 1.0000 - val_loss: 0.1333 - val_accuracy: 0.9714\n",
      "Epoch 34/100\n",
      "48/48 [==============================] - 0s 813us/step - loss: 6.9453e-04 - accuracy: 1.0000 - val_loss: 0.1330 - val_accuracy: 0.9714\n",
      "Epoch 35/100\n",
      "48/48 [==============================] - 0s 806us/step - loss: 6.9077e-04 - accuracy: 1.0000 - val_loss: 0.1327 - val_accuracy: 0.9714\n",
      "Epoch 36/100\n",
      "48/48 [==============================] - 0s 844us/step - loss: 6.8567e-04 - accuracy: 1.0000 - val_loss: 0.1320 - val_accuracy: 0.9714\n",
      "Epoch 37/100\n",
      "48/48 [==============================] - 0s 792us/step - loss: 6.8213e-04 - accuracy: 1.0000 - val_loss: 0.1330 - val_accuracy: 0.9714\n",
      "Epoch 38/100\n",
      "48/48 [==============================] - 0s 804us/step - loss: 6.8051e-04 - accuracy: 1.0000 - val_loss: 0.1325 - val_accuracy: 0.9714\n",
      "Epoch 39/100\n",
      "48/48 [==============================] - 0s 817us/step - loss: 6.7600e-04 - accuracy: 1.0000 - val_loss: 0.1326 - val_accuracy: 0.9714\n",
      "Epoch 40/100\n",
      "48/48 [==============================] - 0s 836us/step - loss: 6.7184e-04 - accuracy: 1.0000 - val_loss: 0.1320 - val_accuracy: 0.9714\n",
      "Epoch 41/100\n",
      "48/48 [==============================] - 0s 938us/step - loss: 6.6921e-04 - accuracy: 1.0000 - val_loss: 0.1321 - val_accuracy: 0.9714\n",
      "Epoch 42/100\n",
      "48/48 [==============================] - 0s 868us/step - loss: 6.6385e-04 - accuracy: 1.0000 - val_loss: 0.1326 - val_accuracy: 0.9714\n",
      "Epoch 43/100\n",
      "48/48 [==============================] - 0s 900us/step - loss: 6.6274e-04 - accuracy: 1.0000 - val_loss: 0.1326 - val_accuracy: 0.9714\n",
      "Epoch 44/100\n",
      "48/48 [==============================] - 0s 805us/step - loss: 6.6094e-04 - accuracy: 1.0000 - val_loss: 0.1323 - val_accuracy: 0.9714\n",
      "Epoch 45/100\n",
      "48/48 [==============================] - 0s 936us/step - loss: 6.5782e-04 - accuracy: 1.0000 - val_loss: 0.1325 - val_accuracy: 0.9714\n",
      "Epoch 46/100\n",
      "48/48 [==============================] - 0s 947us/step - loss: 6.5251e-04 - accuracy: 1.0000 - val_loss: 0.1313 - val_accuracy: 0.9714\n",
      "Epoch 47/100\n",
      "48/48 [==============================] - 0s 901us/step - loss: 6.5460e-04 - accuracy: 1.0000 - val_loss: 0.1318 - val_accuracy: 0.9714\n",
      "Epoch 48/100\n",
      "48/48 [==============================] - 0s 846us/step - loss: 6.4755e-04 - accuracy: 1.0000 - val_loss: 0.1324 - val_accuracy: 0.9714\n",
      "Epoch 49/100\n",
      "48/48 [==============================] - 0s 817us/step - loss: 6.4392e-04 - accuracy: 1.0000 - val_loss: 0.1325 - val_accuracy: 0.9714\n",
      "Epoch 50/100\n",
      "48/48 [==============================] - 0s 825us/step - loss: 6.4098e-04 - accuracy: 1.0000 - val_loss: 0.1326 - val_accuracy: 0.9714\n",
      "Epoch 51/100\n",
      "48/48 [==============================] - 0s 774us/step - loss: 6.3861e-04 - accuracy: 1.0000 - val_loss: 0.1328 - val_accuracy: 0.9714\n",
      "Epoch 52/100\n",
      "48/48 [==============================] - 0s 810us/step - loss: 6.3369e-04 - accuracy: 1.0000 - val_loss: 0.1330 - val_accuracy: 0.9714\n",
      "Epoch 53/100\n",
      "48/48 [==============================] - 0s 788us/step - loss: 6.3252e-04 - accuracy: 1.0000 - val_loss: 0.1330 - val_accuracy: 0.9714\n",
      "Epoch 54/100\n",
      "48/48 [==============================] - 0s 817us/step - loss: 6.2960e-04 - accuracy: 1.0000 - val_loss: 0.1327 - val_accuracy: 0.9714\n",
      "Epoch 55/100\n",
      "48/48 [==============================] - 0s 812us/step - loss: 6.2575e-04 - accuracy: 1.0000 - val_loss: 0.1340 - val_accuracy: 0.9714\n",
      "Epoch 56/100\n"
     ]
    },
    {
     "name": "stdout",
     "output_type": "stream",
     "text": [
      "48/48 [==============================] - 0s 844us/step - loss: 6.2737e-04 - accuracy: 1.0000 - val_loss: 0.1330 - val_accuracy: 0.9714\n",
      "Epoch 57/100\n",
      "48/48 [==============================] - 0s 797us/step - loss: 6.2090e-04 - accuracy: 1.0000 - val_loss: 0.1326 - val_accuracy: 0.9714\n",
      "Epoch 58/100\n",
      "48/48 [==============================] - 0s 1ms/step - loss: 6.1763e-04 - accuracy: 1.0000 - val_loss: 0.1327 - val_accuracy: 0.9714\n",
      "Epoch 59/100\n",
      "48/48 [==============================] - 0s 1ms/step - loss: 6.1456e-04 - accuracy: 1.0000 - val_loss: 0.1324 - val_accuracy: 0.9714\n",
      "Epoch 60/100\n",
      "48/48 [==============================] - 0s 943us/step - loss: 6.1223e-04 - accuracy: 1.0000 - val_loss: 0.1324 - val_accuracy: 0.9714\n",
      "Epoch 61/100\n",
      "48/48 [==============================] - 0s 859us/step - loss: 6.1131e-04 - accuracy: 1.0000 - val_loss: 0.1324 - val_accuracy: 0.9714\n",
      "Epoch 62/100\n",
      "48/48 [==============================] - 0s 838us/step - loss: 6.0759e-04 - accuracy: 1.0000 - val_loss: 0.1321 - val_accuracy: 0.9714\n",
      "Epoch 63/100\n",
      "48/48 [==============================] - 0s 848us/step - loss: 6.0498e-04 - accuracy: 1.0000 - val_loss: 0.1328 - val_accuracy: 0.9714\n",
      "Epoch 64/100\n",
      "48/48 [==============================] - 0s 865us/step - loss: 6.0148e-04 - accuracy: 1.0000 - val_loss: 0.1329 - val_accuracy: 0.9714\n",
      "Epoch 65/100\n",
      "48/48 [==============================] - 0s 841us/step - loss: 5.9956e-04 - accuracy: 1.0000 - val_loss: 0.1327 - val_accuracy: 0.9714\n",
      "Epoch 66/100\n",
      "48/48 [==============================] - 0s 819us/step - loss: 5.9645e-04 - accuracy: 1.0000 - val_loss: 0.1323 - val_accuracy: 0.9714\n",
      "Epoch 67/100\n",
      "48/48 [==============================] - 0s 803us/step - loss: 5.9304e-04 - accuracy: 1.0000 - val_loss: 0.1331 - val_accuracy: 0.9714\n",
      "Epoch 68/100\n",
      "48/48 [==============================] - 0s 825us/step - loss: 5.9242e-04 - accuracy: 1.0000 - val_loss: 0.1331 - val_accuracy: 0.9714\n",
      "Epoch 69/100\n",
      "48/48 [==============================] - 0s 845us/step - loss: 5.8715e-04 - accuracy: 1.0000 - val_loss: 0.1331 - val_accuracy: 0.9714\n",
      "Epoch 70/100\n",
      "48/48 [==============================] - 0s 787us/step - loss: 5.8554e-04 - accuracy: 1.0000 - val_loss: 0.1329 - val_accuracy: 0.9714\n",
      "Epoch 71/100\n",
      "48/48 [==============================] - 0s 847us/step - loss: 5.8529e-04 - accuracy: 1.0000 - val_loss: 0.1328 - val_accuracy: 0.9714\n",
      "Epoch 72/100\n",
      "48/48 [==============================] - 0s 798us/step - loss: 5.8034e-04 - accuracy: 1.0000 - val_loss: 0.1333 - val_accuracy: 0.9714\n",
      "Epoch 73/100\n",
      "48/48 [==============================] - 0s 834us/step - loss: 5.7926e-04 - accuracy: 1.0000 - val_loss: 0.1306 - val_accuracy: 0.9714\n",
      "Epoch 74/100\n",
      "48/48 [==============================] - 0s 835us/step - loss: 5.8182e-04 - accuracy: 1.0000 - val_loss: 0.1318 - val_accuracy: 0.9714\n",
      "Epoch 75/100\n",
      "48/48 [==============================] - 0s 859us/step - loss: 5.7411e-04 - accuracy: 1.0000 - val_loss: 0.1324 - val_accuracy: 0.9714\n",
      "Epoch 76/100\n",
      "48/48 [==============================] - 0s 832us/step - loss: 5.7056e-04 - accuracy: 1.0000 - val_loss: 0.1328 - val_accuracy: 0.9714\n",
      "Epoch 77/100\n",
      "48/48 [==============================] - 0s 817us/step - loss: 5.6950e-04 - accuracy: 1.0000 - val_loss: 0.1328 - val_accuracy: 0.9714\n",
      "Epoch 78/100\n",
      "48/48 [==============================] - 0s 821us/step - loss: 5.6592e-04 - accuracy: 1.0000 - val_loss: 0.1341 - val_accuracy: 0.9714\n",
      "Epoch 79/100\n",
      "48/48 [==============================] - 0s 812us/step - loss: 5.6473e-04 - accuracy: 1.0000 - val_loss: 0.1345 - val_accuracy: 0.9714\n",
      "Epoch 80/100\n",
      "48/48 [==============================] - 0s 823us/step - loss: 5.6598e-04 - accuracy: 1.0000 - val_loss: 0.1335 - val_accuracy: 0.9714\n",
      "Epoch 81/100\n",
      "48/48 [==============================] - 0s 793us/step - loss: 5.6077e-04 - accuracy: 1.0000 - val_loss: 0.1319 - val_accuracy: 0.9714\n",
      "Epoch 82/100\n",
      "48/48 [==============================] - 0s 821us/step - loss: 5.5990e-04 - accuracy: 1.0000 - val_loss: 0.1329 - val_accuracy: 0.9714\n",
      "Epoch 83/100\n",
      "48/48 [==============================] - 0s 885us/step - loss: 5.5513e-04 - accuracy: 1.0000 - val_loss: 0.1334 - val_accuracy: 0.9714\n",
      "Epoch 84/100\n",
      "48/48 [==============================] - 0s 855us/step - loss: 5.5301e-04 - accuracy: 1.0000 - val_loss: 0.1333 - val_accuracy: 0.9714\n",
      "Epoch 85/100\n",
      "48/48 [==============================] - 0s 864us/step - loss: 5.5039e-04 - accuracy: 1.0000 - val_loss: 0.1337 - val_accuracy: 0.9714\n",
      "Epoch 86/100\n",
      "48/48 [==============================] - 0s 831us/step - loss: 5.4762e-04 - accuracy: 1.0000 - val_loss: 0.1337 - val_accuracy: 0.9714\n",
      "Epoch 87/100\n",
      "48/48 [==============================] - 0s 793us/step - loss: 5.4513e-04 - accuracy: 1.0000 - val_loss: 0.1336 - val_accuracy: 0.9714\n",
      "Epoch 88/100\n",
      "48/48 [==============================] - 0s 820us/step - loss: 5.4229e-04 - accuracy: 1.0000 - val_loss: 0.1339 - val_accuracy: 0.9714\n",
      "Epoch 89/100\n",
      "48/48 [==============================] - 0s 866us/step - loss: 5.4034e-04 - accuracy: 1.0000 - val_loss: 0.1339 - val_accuracy: 0.9714\n",
      "Epoch 90/100\n",
      "48/48 [==============================] - 0s 840us/step - loss: 5.3897e-04 - accuracy: 1.0000 - val_loss: 0.1336 - val_accuracy: 0.9714\n",
      "Epoch 91/100\n",
      "48/48 [==============================] - 0s 790us/step - loss: 5.3668e-04 - accuracy: 1.0000 - val_loss: 0.1334 - val_accuracy: 0.9714\n",
      "Epoch 92/100\n",
      "48/48 [==============================] - 0s 808us/step - loss: 5.3397e-04 - accuracy: 1.0000 - val_loss: 0.1337 - val_accuracy: 0.9714\n",
      "Epoch 93/100\n",
      "48/48 [==============================] - 0s 859us/step - loss: 5.3185e-04 - accuracy: 1.0000 - val_loss: 0.1338 - val_accuracy: 0.9714\n",
      "Epoch 94/100\n",
      "48/48 [==============================] - 0s 770us/step - loss: 5.3078e-04 - accuracy: 1.0000 - val_loss: 0.1330 - val_accuracy: 0.9714\n",
      "Epoch 95/100\n",
      "48/48 [==============================] - 0s 834us/step - loss: 5.2723e-04 - accuracy: 1.0000 - val_loss: 0.1339 - val_accuracy: 0.9714\n",
      "Epoch 96/100\n",
      "48/48 [==============================] - 0s 766us/step - loss: 5.2572e-04 - accuracy: 1.0000 - val_loss: 0.1336 - val_accuracy: 0.9714\n",
      "Epoch 97/100\n",
      "48/48 [==============================] - 0s 837us/step - loss: 5.2410e-04 - accuracy: 1.0000 - val_loss: 0.1338 - val_accuracy: 0.9714\n",
      "Epoch 98/100\n",
      "48/48 [==============================] - 0s 775us/step - loss: 5.2161e-04 - accuracy: 1.0000 - val_loss: 0.1337 - val_accuracy: 0.9714\n",
      "Epoch 99/100\n",
      "48/48 [==============================] - 0s 785us/step - loss: 5.1947e-04 - accuracy: 1.0000 - val_loss: 0.1338 - val_accuracy: 0.9714\n",
      "Epoch 100/100\n",
      "48/48 [==============================] - 0s 792us/step - loss: 5.1684e-04 - accuracy: 1.0000 - val_loss: 0.1340 - val_accuracy: 0.9714\n",
      "Wall time: 4.29 s\n"
     ]
    }
   ],
   "source": [
    "%%time\n",
    "# Fit the model\n",
    "history = model.fit(\n",
    "    X_train,\n",
    "    y_train,\n",
    "    validation_split = 0.25,   #splitting training data (X_train) to 75% and 25%\n",
    "    batch_size = 20,\n",
    "    epochs = 100,\n",
    "    verbose = 1)"
   ]
  },
  {
   "cell_type": "code",
   "execution_count": 27,
   "metadata": {},
   "outputs": [],
   "source": [
    "history = model.fit(\n",
    "    X_train,\n",
    "    y_train,\n",
    "    validation_split = 0.25,   #splitting training data (X_train) to 75% and 25%\n",
    "    batch_size = 20,\n",
    "    epochs = 100,\n",
    "    verbose = 0)  #0 wont give any response like above"
   ]
  },
  {
   "cell_type": "code",
   "execution_count": 28,
   "metadata": {
    "id": "CQsFQY0fy-Qy"
   },
   "outputs": [
    {
     "name": "stdout",
     "output_type": "stream",
     "text": [
      "WARNING:tensorflow:From <ipython-input-28-bc83193b8b59>:1: Sequential.predict_classes (from tensorflow.python.keras.engine.sequential) is deprecated and will be removed after 2021-01-01.\n",
      "Instructions for updating:\n",
      "Please use instead:* `np.argmax(model.predict(x), axis=-1)`,   if your model does multi-class classification   (e.g. if it uses a `softmax` last-layer activation).* `(model.predict(x) > 0.5).astype(\"int32\")`,   if your model does binary classification   (e.g. if it uses a `sigmoid` last-layer activation).\n"
     ]
    }
   ],
   "source": [
    "predictions = model.predict_classes(X_test)"
   ]
  },
  {
   "cell_type": "code",
   "execution_count": 29,
   "metadata": {},
   "outputs": [
    {
     "data": {
      "text/plain": [
       "array([0, 7, 6, 9, 7, 5, 3, 0, 1, 3, 7, 7, 4, 3, 4, 1, 3, 8, 5, 3, 5, 3,\n",
       "       1, 2, 9, 6, 1, 6, 0, 1, 5, 4, 5, 0, 7, 9, 1, 1, 1, 6, 5, 9, 4, 1,\n",
       "       9, 4, 7, 7, 4, 3, 9, 4, 8, 3, 0, 9, 6, 8, 7, 2, 2, 5, 8, 7, 4, 3,\n",
       "       2, 1, 6, 9, 9, 4, 8, 1, 7, 2, 8, 6, 6, 7, 3, 0, 8, 3, 0, 1, 0, 2,\n",
       "       9, 4, 2, 3, 0, 1, 7, 7, 3, 9, 4, 5, 2, 2, 3, 8, 4, 2, 1, 2, 7, 2,\n",
       "       2, 3, 2, 5, 1, 4, 0, 8, 5, 5, 0, 1, 0, 8, 0, 9, 8, 1, 8, 1, 9, 5,\n",
       "       9, 1, 7, 5, 8, 9, 3, 6, 9, 7, 9, 5, 6, 2, 4, 3, 5, 3, 7, 4, 9, 4,\n",
       "       3, 4, 1, 6, 4, 2, 3, 1, 5, 6, 8, 5, 0, 1, 5, 0, 6, 9, 6, 4, 4, 5,\n",
       "       0, 0, 2, 6, 1, 6, 4, 2, 6, 8, 0, 9, 2, 8, 9, 0, 8, 5, 8, 9, 5, 9,\n",
       "       3, 2, 7, 6, 1, 9, 7, 5, 3, 0, 2, 0, 0, 5, 1, 9, 5, 6, 5, 5, 0, 8,\n",
       "       4, 4, 5, 7, 1, 9, 5, 7, 6, 5, 1, 1, 2, 0, 0, 0, 8, 1, 2, 2, 3, 4,\n",
       "       8, 7, 7, 6, 7, 5, 5, 5, 8, 6, 6, 8, 7, 6, 2, 6, 7, 6, 3, 2, 5, 5,\n",
       "       7, 7, 0, 5, 4, 6, 9, 5, 9, 2, 4, 6, 7, 5, 0, 4, 9, 6, 0, 5, 2, 7,\n",
       "       7, 8, 9, 3, 6, 8, 0, 7, 4, 6, 2, 9, 6, 1, 1, 1, 9, 3, 5, 8, 7, 1,\n",
       "       8, 2, 4, 3, 7, 5, 4, 3, 9, 7, 6, 8, 4, 8, 2, 8, 2, 0, 3, 4, 9, 7,\n",
       "       5, 6, 4, 6, 5, 8, 9, 4, 9, 0, 7, 2, 4, 6, 3, 1, 9, 6, 0, 3, 9, 8,\n",
       "       2, 8, 6, 7, 7, 5, 3, 9, 0, 5, 7, 7, 4, 3, 0, 6, 6, 2, 9, 5, 1, 4,\n",
       "       1, 8, 0, 2, 6, 2, 4, 8, 2, 2, 7, 8, 1, 8, 8, 5, 6, 9, 8, 6, 5, 1,\n",
       "       0, 0, 4, 6, 9, 4, 2, 5, 3, 5, 9, 0, 0, 8, 4, 4, 7, 3, 9, 1, 6, 5,\n",
       "       7, 9, 8, 1, 0, 8, 4, 8, 4, 7, 0, 6, 4, 7, 5, 2, 4, 5, 3, 8, 0, 6,\n",
       "       1, 0, 9, 1, 4, 7, 6, 4, 6, 9, 6, 3, 5, 3, 5, 0, 2, 5, 1, 6, 8, 2,\n",
       "       3, 0, 2, 7, 5, 5, 1, 3, 3, 2, 7, 1, 6, 0, 4, 8, 1, 0, 3, 3, 1, 0,\n",
       "       9, 4, 6, 1, 8, 4, 0, 4, 5, 6, 7, 4, 1, 5, 1, 2, 0, 3, 2, 3, 5, 6,\n",
       "       5, 0, 1, 4, 8, 9, 4, 5, 5, 9, 6, 0, 9, 3, 3, 5, 6, 3, 6, 1, 6, 2,\n",
       "       5, 3, 1, 0, 6, 7, 2, 4, 1, 6, 0, 2], dtype=int64)"
      ]
     },
     "execution_count": 29,
     "metadata": {},
     "output_type": "execute_result"
    }
   ],
   "source": [
    "predictions"
   ]
  },
  {
   "cell_type": "code",
   "execution_count": 39,
   "metadata": {},
   "outputs": [
    {
     "data": {
      "text/plain": [
       "array([[9.99999404e-01, 3.06425336e-11, 1.09670644e-07, ...,\n",
       "        1.70322284e-10, 7.12338633e-09, 1.12112630e-07],\n",
       "       [5.84718973e-14, 7.50234111e-11, 1.50968449e-09, ...,\n",
       "        9.99996185e-01, 9.48206069e-10, 1.27741859e-10],\n",
       "       [4.90857879e-08, 3.69218232e-11, 1.13017573e-09, ...,\n",
       "        4.42551107e-10, 1.48551385e-06, 4.67666478e-16],\n",
       "       ...,\n",
       "       [1.07006937e-08, 8.22991666e-08, 2.81087292e-10, ...,\n",
       "        2.55070201e-11, 1.91384152e-05, 8.20575297e-14],\n",
       "       [9.99734700e-01, 1.27702677e-07, 4.30482400e-10, ...,\n",
       "        6.26068433e-11, 2.53765552e-06, 1.50713877e-08],\n",
       "       [6.93993224e-03, 7.75291724e-08, 9.59984899e-01, ...,\n",
       "        1.61045843e-08, 1.68418446e-10, 2.61254201e-04]], dtype=float32)"
      ]
     },
     "execution_count": 39,
     "metadata": {},
     "output_type": "execute_result"
    }
   ],
   "source": [
    "model.predict(X_test)  # probability for every class (0-9) for each of the images, "
   ]
  },
  {
   "cell_type": "code",
   "execution_count": 30,
   "metadata": {
    "colab": {
     "base_uri": "https://localhost:8080/",
     "height": 70
    },
    "executionInfo": {
     "elapsed": 1160,
     "status": "ok",
     "timestamp": 1592825475254,
     "user": {
      "displayName": "Mai Anh Ly",
      "photoUrl": "https://lh3.googleusercontent.com/a-/AOh14Gj3m3ePWBwBFT7szOlaK8W7lylc_ZnY93J_HKbY5EYiLuSsLy7FtOhGAmfpk-co2FX3NdvOSoUHAjcKyRo5fYAxzXGwBuB_Scz8EEoI0Sd99Sg0jA2hPKbGGL6l3OXXH3RcebQAVwm8daKZ2HaryKtOGaYPEs9Xm4WwmZilYvP12BkymjKBBw7wXJMbb_FMuYXiSJ7kmY0DWt455ZoAKqVSJa8qwbs2DTI_8qb-mnSxDEsvUDfWP5HYXMJ0-_ZkGM3e4Ar7WqqeTz_ra4LyeKayfg3WeqVtxylbHQIDlD2SoYjxZBk1F9dK1eYMhV9norQqhOu7Vd-ye50GdIbvJT8-QvhH3mj6uskBTzXPrA1fEo302QbdbXAVY3r8PvhwuUw4aJtvHHsk37YZNZ36XzswOyKGtKP7YQr9nItYSOQ8ZmWzlJojcN0uHH1RFCoshmE-ncc5Vf8-0LXicZIQp4x8HCIVH93zt4_P9E3PyrYf5mw9oOzmxcBIX3u9yuRv_K3-XV9oUJTZRFCBOqP3phE4KUy_Hwn2ZSv0cfUiuFz5XpPAjvO6hYAsZTayx4_Tr-REFcps30D5U05ItXMetcHTu4JM9Yvg624ZAgWv6NZ526HoOcOja57kG4pX8lmBpLnL6r9bb7PolwB2hpZuZ1Ma4wzL6EG3xNS9VJzMmyN0nZTqf_05jxnnn0wsvqcUAhRqK9PbPxfieRzYPTE20QrMG6gxUrSZ9PDWIMEm5YAYgZb7dZU7_k51mccLXc2mEA=s64",
      "userId": "16059923818223643809"
     },
     "user_tz": -600
    },
    "id": "7XbWCdmmy-Q0",
    "outputId": "24e9b6ce-ba9f-41de-c035-7b6fa869d690",
    "scrolled": true
   },
   "outputs": [
    {
     "name": "stdout",
     "output_type": "stream",
     "text": [
      "1/2 [==============>...............] - ETA: 0s - loss: 0.0721 - accuracy: 0.9778WARNING:tensorflow:Callbacks method `on_test_batch_end` is slow compared to the batch time (batch time: 0.0000s vs `on_test_batch_end` time: 0.0010s). Check your callbacks.\n",
      "2/2 [==============================] - 0s 1ms/step - loss: 0.0978 - accuracy: 0.9741\n",
      "\n",
      "Test loss: 0.097799, Test accuracy: 0.974074\n"
     ]
    }
   ],
   "source": [
    "score = model.evaluate(X_test, y_test, batch_size = 315)   #similar to sklearn model.score \n",
    "print('\\nTest loss: %.6f, Test accuracy: %.6f' % tuple(score))"
   ]
  },
  {
   "cell_type": "code",
   "execution_count": 31,
   "metadata": {
    "id": "YAEoxWaNy-Q2"
   },
   "outputs": [],
   "source": [
    "def print_cm(cm):\n",
    "    c = '%%%dd ' % len('%d' % cm.max())\n",
    "    s = ' | '\n",
    "    s += ''.join([c % i for i in range(len(cm[0]))])\n",
    "    print(s)\n",
    "    print('-' * len(s))\n",
    "    for i, r in enumerate(cm):\n",
    "        s = '%d| ' % i\n",
    "        s += c * len(r)\n",
    "        print(s % tuple(r))"
   ]
  },
  {
   "cell_type": "code",
   "execution_count": 32,
   "metadata": {
    "colab": {
     "base_uri": "https://localhost:8080/",
     "height": 230
    },
    "executionInfo": {
     "elapsed": 677,
     "status": "ok",
     "timestamp": 1560987282219,
     "user": {
      "displayName": "Ibrahim Faisal",
      "photoUrl": "https://lh3.googleusercontent.com/-67DMczu7rgM/AAAAAAAAAAI/AAAAAAAAAAc/6f5FCnBgxFs/s64/photo.jpg",
      "userId": "02685917636347920688"
     },
     "user_tz": -600
    },
    "id": "5a00OEH5y-Q4",
    "outputId": "3344a8e1-bb45-4799-9e98-2fef7e4b907f",
    "scrolled": true
   },
   "outputs": [
    {
     "name": "stdout",
     "output_type": "stream",
     "text": [
      " |  0  1  2  3  4  5  6  7  8  9 \n",
      "---------------------------------\n",
      "0| 54  0  0  0  1  0  0  0  0  0 \n",
      "1|  1 52  1  0  0  0  0  0  1  0 \n",
      "2|  0  0 49  0  0  0  0  0  0  0 \n",
      "3|  0  0  0 49  0  3  0  0  0  0 \n",
      "4|  0  0  0  0 55  0  0  0  0  0 \n",
      "5|  0  0  0  0  0 60  0  0  0  0 \n",
      "6|  0  0  0  0  0  0 60  0  1  0 \n",
      "7|  0  0  0  0  0  0  0 51  0  1 \n",
      "8|  0  1  0  0  0  1  1  0 46  0 \n",
      "9|  0  1  0  0  0  1  0  0  0 50 \n"
     ]
    }
   ],
   "source": [
    "y_test_target = np.array([x.argmax() for x in y_test])\n",
    "cm = confusion_matrix(y_test_target, predictions)\n",
    "print_cm(cm)\n",
    "\n",
    "#actual on top, #predictions on left"
   ]
  },
  {
   "cell_type": "code",
   "execution_count": null,
   "metadata": {
    "colab": {
     "base_uri": "https://localhost:8080/",
     "height": 430
    },
    "executionInfo": {
     "elapsed": 1308,
     "status": "ok",
     "timestamp": 1560987288359,
     "user": {
      "displayName": "Ibrahim Faisal",
      "photoUrl": "https://lh3.googleusercontent.com/-67DMczu7rgM/AAAAAAAAAAI/AAAAAAAAAAc/6f5FCnBgxFs/s64/photo.jpg",
      "userId": "02685917636347920688"
     },
     "user_tz": -600
    },
    "id": "UhiEYNVqy-Q6",
    "outputId": "f2584738-9742-4c15-8735-98938107e333",
    "scrolled": true
   },
   "outputs": [
    {
     "data": {
      "image/png": "[encoded data removed]",
      "text/plain": [
       "<Figure size 1296x432 with 2 Axes>"
      ]
     },
     "metadata": {
      "needs_background": "light",
      "tags": []
     },
     "output_type": "display_data"
    }
   ],
   "source": [
    "fig, ax = plt.subplots(1, 2, figsize = (18, 6))\n",
    "fig.subplots_adjust(left = 0.02, right = 0.98, wspace = 0.2)\n",
    "\n",
    "plt.rcParams.update({'font.size': 18})\n",
    "\n",
    "# Plot training & validation accuracy values\n",
    "ax[0].plot(model.history.history['accuracy'], label = 'Training')\n",
    "ax[0].plot(model.history.history['val_accuracy'], label = 'Validation')\n",
    "ax[0].set_title('Model accuracy')\n",
    "ax[0].set_ylabel('Accuracy')\n",
    "ax[0].set_xlabel('Epoch')\n",
    "ax[0].legend()\n",
    "\n",
    "# Plot training & validation loss values\n",
    "ax[1].plot(model.history.history['loss'], label = 'Training')\n",
    "ax[1].plot(model.history.history['val_loss'], label = 'Validation')\n",
    "ax[1].set_title('Model loss')\n",
    "ax[1].set_ylabel('Loss')\n",
    "ax[1].set_xlabel('Epoch')\n",
    "ax[1].legend()\n",
    "\n",
    "plt.show()"
   ]
  },
  {
   "cell_type": "code",
   "execution_count": 33,
   "metadata": {
    "id": "grQoh06wy-Q7"
   },
   "outputs": [],
   "source": [
    "def show_digit():\n",
    "    id = np.random.randint(len(predictions))\n",
    "    XTest = X_test[id].reshape(8, 8)\n",
    "    plt.figure(figsize = (2, 2))\n",
    "    plt.imshow(XTest, cmap = 'gray')\n",
    "    plt.title('Prediction: %d' % predictions[id])\n",
    "    plt.xticks([])\n",
    "    plt.yticks([])\n",
    "    plt.show()"
   ]
  },
  {
   "cell_type": "code",
   "execution_count": 37,
   "metadata": {
    "id": "4A6G2LEPy-Q9"
   },
   "outputs": [],
   "source": [
    "def show_10_digits():\n",
    "    fig, ax = plt.subplots(2, 5, figsize = (8, 4))\n",
    "    fig.subplots_adjust(left = 0.02, right = 0.98, top = 0.8, wspace = 0.2, hspace = 0.3)\n",
    "    fig.suptitle('Ten Predictions', fontsize = 12, fontweight = 'bold')\n",
    "\n",
    "    plt.rcParams.update({'font.size': 10})\n",
    "    \n",
    "    ids = np.random.randint(len(predictions), size = 10)\n",
    "    r = 0\n",
    "    c = 0\n",
    "    for id in ids:\n",
    "        XTest = X_test[id].reshape(8, 8)\n",
    "\n",
    "        # original image\n",
    "        ax[r, c].imshow(XTest, cmap = 'gray')\n",
    "        ax[r, c].set_title('Prediction: %d' % predictions[id])\n",
    "        ax[r, c].set_xticks([])\n",
    "        ax[r, c].set_yticks([])\n",
    "        c += 1\n",
    "        if c > 4:\n",
    "            r += 1\n",
    "            c = 0\n",
    "\n",
    "    plt.show()"
   ]
  },
  {
   "cell_type": "code",
   "execution_count": 36,
   "metadata": {
    "colab": {
     "base_uri": "https://localhost:8080/",
     "height": 165
    },
    "executionInfo": {
     "elapsed": 750,
     "status": "ok",
     "timestamp": 1560987306209,
     "user": {
      "displayName": "Ibrahim Faisal",
      "photoUrl": "https://lh3.googleusercontent.com/-67DMczu7rgM/AAAAAAAAAAI/AAAAAAAAAAc/6f5FCnBgxFs/s64/photo.jpg",
      "userId": "02685917636347920688"
     },
     "user_tz": -600
    },
    "id": "iG9wf-bTy-Q-",
    "outputId": "2092ecd0-c4a8-4252-d4df-3f383a3d3b34"
   },
   "outputs": [
    {
     "data": {
      "image/png": "[encoded data removed]",
      "text/plain": [
       "<Figure size 144x144 with 1 Axes>"
      ]
     },
     "metadata": {},
     "output_type": "display_data"
    }
   ],
   "source": [
    "# show one\n",
    "show_digit()"
   ]
  },
  {
   "cell_type": "code",
   "execution_count": 38,
   "metadata": {
    "colab": {
     "base_uri": "https://localhost:8080/",
     "height": 281
    },
    "executionInfo": {
     "elapsed": 958,
     "status": "ok",
     "timestamp": 1560987309548,
     "user": {
      "displayName": "Ibrahim Faisal",
      "photoUrl": "https://lh3.googleusercontent.com/-67DMczu7rgM/AAAAAAAAAAI/AAAAAAAAAAc/6f5FCnBgxFs/s64/photo.jpg",
      "userId": "02685917636347920688"
     },
     "user_tz": -600
    },
    "id": "Ue7Oo4Vxy-Q_",
    "outputId": "e6dc190e-2096-4da0-ab9c-db6d67e18e3c",
    "scrolled": true
   },
   "outputs": [
    {
     "data": {
      "image/png": "[encoded data removed]",
      "text/plain": [
       "<Figure size 576x288 with 10 Axes>"
      ]
     },
     "metadata": {},
     "output_type": "display_data"
    }
   ],
   "source": [
    "# show ten\n",
    "show_10_digits()"
   ]
  },
  {
   "cell_type": "markdown",
   "metadata": {
    "id": "RERADKgNFq9T"
   },
   "source": [
    "\n",
    "\n",
    "---\n",
    "\n",
    "\n",
    "\n",
    "---\n",
    "\n",
    "\n",
    "\n",
    "> > > > > > > > > © 2021 Institute of Data\n",
    "\n",
    "\n",
    "---\n",
    "\n",
    "\n",
    "\n",
    "---"
   ]
  },
  {
   "cell_type": "code",
   "execution_count": null,
   "metadata": {},
   "outputs": [],
   "source": []
  }
 ],
 "metadata": {
  "accelerator": "GPU",
  "colab": {
   "collapsed_sections": [],
   "name": "IOD_Demo-10-Keras.ipynb",
   "provenance": []
  },
  "kernelspec": {
   "display_name": "Python 3",
   "language": "python",
   "name": "python3"
  },
  "language_info": {
   "codemirror_mode": {
    "name": "ipython",
    "version": 3
   },
   "file_extension": ".py",
   "mimetype": "text/x-python",
   "name": "python",
   "nbconvert_exporter": "python",
   "pygments_lexer": "ipython3",
   "version": "3.8.10"
  }
 },
 "nbformat": 4,
 "nbformat_minor": 1
}
