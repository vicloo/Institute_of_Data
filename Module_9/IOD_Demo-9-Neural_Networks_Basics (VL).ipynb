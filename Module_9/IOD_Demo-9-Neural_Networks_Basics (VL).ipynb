{
 "cells": [
  {
   "cell_type": "markdown",
   "metadata": {
    "colab_type": "text",
    "id": "pIPm9vB0zJJr"
   },
   "source": [
    "<div>\n",
    "<img src=https://www.institutedata.com/wp-content/uploads/2019/10/iod_h_tp_primary_c.svg width=\"300\">\n",
    "</div>"
   ]
  },
  {
   "cell_type": "markdown",
   "metadata": {
    "colab_type": "text",
    "id": "UIvDAg1hzJJv"
   },
   "source": [
    "# Demo 9: Neural Network Basics\n",
    "INSTRUCTIONS:\n",
    "- Run the cells\n",
    "- Observe and understand the results\n",
    "- Answer the questions"
   ]
  },
  {
   "cell_type": "code",
   "execution_count": 1,
   "metadata": {
    "colab": {},
    "colab_type": "code",
    "id": "e4lm0jNJzJJy"
   },
   "outputs": [],
   "source": [
    "import numpy as np\n",
    "\n",
    "%matplotlib inline\n",
    "import matplotlib.pyplot as plt"
   ]
  },
  {
   "cell_type": "markdown",
   "metadata": {
    "colab_type": "text",
    "id": "DqNZIct0zJJ5"
   },
   "source": [
    "## Input data"
   ]
  },
  {
   "cell_type": "code",
   "execution_count": 2,
   "metadata": {
    "colab": {},
    "colab_type": "code",
    "id": "S3o6mJagzJJ8"
   },
   "outputs": [],
   "source": [
    "# Input array\n",
    "X = np.array([    #X is features\n",
    "  [1, 0, 1, 0],   #3 rows, four features\n",
    "  [1, 0, 1, 1],\n",
    "  [0, 1, 0, 1]\n",
    "])\n",
    "\n",
    "# Output\n",
    "y = np.array([   #y is target variable\n",
    "  [1],\n",
    "  [1],\n",
    "  [0]\n",
    "])"
   ]
  },
  {
   "cell_type": "code",
   "execution_count": 3,
   "metadata": {},
   "outputs": [
    {
     "data": {
      "text/plain": [
       "(3, 4)"
      ]
     },
     "execution_count": 3,
     "metadata": {},
     "output_type": "execute_result"
    }
   ],
   "source": [
    "X.shape"
   ]
  },
  {
   "cell_type": "code",
   "execution_count": 4,
   "metadata": {},
   "outputs": [
    {
     "data": {
      "text/plain": [
       "(3, 1)"
      ]
     },
     "execution_count": 4,
     "metadata": {},
     "output_type": "execute_result"
    }
   ],
   "source": [
    "y.shape"
   ]
  },
  {
   "cell_type": "markdown",
   "metadata": {
    "colab_type": "text",
    "id": "tistFkGhzJKB"
   },
   "source": [
    "## Functions"
   ]
  },
  {
   "cell_type": "code",
   "execution_count": 5,
   "metadata": {
    "colab": {},
    "colab_type": "code",
    "id": "hepFxOnazJKC"
   },
   "outputs": [],
   "source": [
    "# Sigmoid Function\n",
    "def sigmoid(x):\n",
    "    return 1 / (1 + np.exp(-x))\n",
    "\n",
    "# Derivative of Sigmoid Function\n",
    "def sigmoid_derivative(x):\n",
    "    return x * (1 - x)\n",
    "\n",
    "# ReLU Function\n",
    "def relu(x):\n",
    "    return np.max(0, x)\n",
    "\n",
    "# Derivative of ReLU Function\n",
    "def relu_derivative(x):\n",
    "    return 0 if x < 0 else 1"
   ]
  },
  {
   "cell_type": "markdown",
   "metadata": {
    "colab_type": "text",
    "id": "dFwQNXRLzJKG"
   },
   "source": [
    "## Variable initialization"
   ]
  },
  {
   "cell_type": "code",
   "execution_count": 6,
   "metadata": {
    "colab": {},
    "colab_type": "code",
    "id": "IoeDzszRzJKH"
   },
   "outputs": [],
   "source": [
    "# Setting training iterations\n",
    "epoch = 1000\n",
    "# Setting learning rate\n",
    "lr = 0.1\n",
    "# number of features in data set\n",
    "input_layer_size = X.shape[1]\n",
    "# number of hidden layers neurons\n",
    "hidden_layer_1_size = 3\n",
    "# number of neurons at output layer\n",
    "output_layer_size = 1"
   ]
  },
  {
   "cell_type": "markdown",
   "metadata": {
    "colab_type": "text",
    "id": "uM_RRbVgzJKL"
   },
   "source": [
    "### Weights and Bias"
   ]
  },
  {
   "cell_type": "code",
   "execution_count": 7,
   "metadata": {
    "colab": {},
    "colab_type": "code",
    "id": "kNlVDAqmzJKM"
   },
   "outputs": [],
   "source": [
    "# weight and bias initialization\n",
    "wh1 = np.random.uniform(size = (input_layer_size, hidden_layer_1_size))\n",
    "bh1 = np.random.uniform(size = (1, hidden_layer_1_size))\n",
    "wout = np.random.uniform(size = (hidden_layer_1_size, output_layer_size))\n",
    "bout = np.random.uniform(size = (1, output_layer_size))"
   ]
  },
  {
   "cell_type": "code",
   "execution_count": 8,
   "metadata": {},
   "outputs": [
    {
     "data": {
      "text/plain": [
       "array([[0.85987676, 0.4843158 , 0.65598928],\n",
       "       [0.46061932, 0.70616868, 0.08157226],\n",
       "       [0.89859263, 0.33201218, 0.54994852],\n",
       "       [0.11760286, 0.1517466 , 0.37634188]])"
      ]
     },
     "execution_count": 8,
     "metadata": {},
     "output_type": "execute_result"
    }
   ],
   "source": [
    "wh1"
   ]
  },
  {
   "cell_type": "code",
   "execution_count": 9,
   "metadata": {},
   "outputs": [
    {
     "data": {
      "text/plain": [
       "array([[0.4205233 ],\n",
       "       [0.79914077],\n",
       "       [0.06315777]])"
      ]
     },
     "execution_count": 9,
     "metadata": {},
     "output_type": "execute_result"
    }
   ],
   "source": [
    "wout"
   ]
  },
  {
   "cell_type": "markdown",
   "metadata": {
    "colab_type": "text",
    "id": "QwcLCxduzJKP"
   },
   "source": [
    "## Calculation"
   ]
  },
  {
   "cell_type": "code",
   "execution_count": null,
   "metadata": {
    "colab": {},
    "colab_type": "code",
    "id": "90S8ZLMJzJKP"
   },
   "outputs": [],
   "source": [
    "cost = []\n",
    "for i in range(epoch):\n",
    "    # Forward Propogation\n",
    "    hidden_layer_1 = np.dot(X, wh1)\n",
    "    hidden_layer_1 = hidden_layer_1 + bh1\n",
    "    hidden_layer_1_activation = sigmoid(hidden_layer_1)\n",
    "    \n",
    "    output_layer = np.dot(hidden_layer_1_activation, wout)\n",
    "    output_layer = output_layer + bout\n",
    "    \n",
    "    output = sigmoid(output_layer)\n",
    "\n",
    "    # Backpropagation\n",
    "    E = y - output\n",
    "    cost.append(np.square(E).sum())\n",
    "    \n",
    "    slope_output_layer = sigmoid_derivative(output)\n",
    "    slope_hidden_layer_1 = sigmoid_derivative(hidden_layer_1_activation)\n",
    "    d_output = E * slope_output_layer\n",
    "    \n",
    "    error_hidden_layer_1 = d_output.dot(wout.T)\n",
    "    d_hidden_layer_1 = error_hidden_layer_1 * slope_hidden_layer_1\n",
    "    \n",
    "    wout += hidden_layer_1_activation.T.dot(d_output) * lr\n",
    "    bout += np.sum(d_output,  axis = 0, keepdims = True) * lr\n",
    "    wh1 += X.T.dot(d_hidden_layer_1) * lr\n",
    "    bh1 += np.sum(d_hidden_layer_1,  axis = 0, keepdims = True) * lr"
   ]
  },
  {
   "cell_type": "markdown",
   "metadata": {
    "colab_type": "text",
    "id": "XZ7X5O2PzJKR"
   },
   "source": [
    "## Results"
   ]
  },
  {
   "cell_type": "code",
   "execution_count": null,
   "metadata": {
    "colab": {
     "base_uri": "https://localhost:8080/",
     "height": 141
    },
    "colab_type": "code",
    "executionInfo": {
     "elapsed": 696,
     "status": "ok",
     "timestamp": 1560987087594,
     "user": {
      "displayName": "Ibrahim Faisal",
      "photoUrl": "https://lh3.googleusercontent.com/-67DMczu7rgM/AAAAAAAAAAI/AAAAAAAAAAc/6f5FCnBgxFs/s64/photo.jpg",
      "userId": "02685917636347920688"
     },
     "user_tz": -600
    },
    "id": "9IGhLmdOzJKS",
    "outputId": "407f4e40-dce4-4fc2-a310-5c18d958f378"
   },
   "outputs": [
    {
     "name": "stdout",
     "output_type": "stream",
     "text": [
      "index Expect Output Error Binary Correct\n",
      "----- ------ ------ ----- ------ -------\n",
      "   0     1    0.94   0.06    1     Yes\n",
      " ...\n",
      "\n",
      "Cost Minimum: 0.0353\n",
      "Accuracy    : 1.00\n"
     ]
    }
   ],
   "source": [
    "ii = range(len(y))\n",
    "yy = y.flatten()\n",
    "oo = output.flatten()\n",
    "ab = np.abs(oo - yy)\n",
    "bo = np.array([0 if oi < 0.5 else 1 for oi in oo])\n",
    "tt = ['Yes' if ti else 'No' for ti in (yy == bo)]\n",
    "\n",
    "print('index Expect Output Error Binary Correct')\n",
    "print('----- ------ ------ ----- ------ -------')\n",
    "ima = int((0.9 * len(yy)))\n",
    "imi = len(yy) - ima\n",
    "dots = True\n",
    "for i, a, b, c, d, e in zip(ii, yy, oo, ab, bo, tt):\n",
    "    if (i < imi) | (i > ima):\n",
    "        print(' %3d     %d    %.2f   %.2f    %d     %s' % (i, a, b, c, d, e))\n",
    "    else:\n",
    "        if dots:\n",
    "            print(' ...')\n",
    "            dots = False\n",
    "aa = (yy == bo).sum() / len(yy)\n",
    "print('\\nCost Minimum: %.4f' % min(cost))\n",
    "print('Accuracy    : %.2f' % aa)"
   ]
  },
  {
   "cell_type": "code",
   "execution_count": null,
   "metadata": {
    "colab": {
     "base_uri": "https://localhost:8080/",
     "height": 404
    },
    "colab_type": "code",
    "executionInfo": {
     "elapsed": 1023,
     "status": "ok",
     "timestamp": 1560987099330,
     "user": {
      "displayName": "Ibrahim Faisal",
      "photoUrl": "https://lh3.googleusercontent.com/-67DMczu7rgM/AAAAAAAAAAI/AAAAAAAAAAc/6f5FCnBgxFs/s64/photo.jpg",
      "userId": "02685917636347920688"
     },
     "user_tz": -600
    },
    "id": "YlmUi9zazJKU",
    "outputId": "315757f8-f552-4666-fe29-ed855e9dd0ce"
   },
   "outputs": [
    {
     "data": {
      "image/png": "[encoded data removed]",
      "text/plain": [
       "<Figure size 1080x432 with 1 Axes>"
      ]
     },
     "metadata": {
      "tags": []
     },
     "output_type": "display_data"
    }
   ],
   "source": [
    "plt.figure(figsize = (15, 6))\n",
    "plt.plot(cost)\n",
    "plt.hlines(min(cost), 0, epoch)\n",
    "plt.text(epoch - 150, max(cost), 'Cost Minimum: %.4f' % min(cost))\n",
    "plt.title('Cost by Epoch')\n",
    "plt.xlabel('Epoch')\n",
    "plt.ylabel('Cost')\n",
    "plt.show()"
   ]
  },
  {
   "cell_type": "markdown",
   "metadata": {
    "colab_type": "text",
    "id": "anxuMgw4zJKV"
   },
   "source": [
    "## Create new data and re-run\n",
    "Create new data and re-run from **Weights and Bias**."
   ]
  },
  {
   "cell_type": "code",
   "execution_count": null,
   "metadata": {
    "colab": {},
    "colab_type": "code",
    "id": "X-80-64JzJKW"
   },
   "outputs": [],
   "source": [
    "X = np.random.binomial(1, 0.7, (100, 7))\n",
    "y = np.random.binomial(1, 0.5, (X.shape[0], 1))\n",
    "\n",
    "input_layer_size = X.shape[1]\n",
    "hidden_layer_1_size = 5"
   ]
  },
  {
   "cell_type": "markdown",
   "metadata": {
    "colab_type": "text",
    "id": "RERADKgNFq9T"
   },
   "source": [
    "\n",
    "\n",
    "---\n",
    "\n",
    "\n",
    "\n",
    "---\n",
    "\n",
    "\n",
    "\n",
    "> > > > > > > > > © 2021 Institute of Data\n",
    "\n",
    "\n",
    "---\n",
    "\n",
    "\n",
    "\n",
    "---\n",
    "\n",
    "\n",
    "\n"
   ]
  }
 ],
 "metadata": {
  "colab": {
   "collapsed_sections": [],
   "name": "IOD_Demo-10-Neural_Networks_Basics.ipynb",
   "provenance": []
  },
  "kernelspec": {
   "display_name": "Python 3",
   "language": "python",
   "name": "python3"
  },
  "language_info": {
   "codemirror_mode": {
    "name": "ipython",
    "version": 3
   },
   "file_extension": ".py",
   "mimetype": "text/x-python",
   "name": "python",
   "nbconvert_exporter": "python",
   "pygments_lexer": "ipython3",
   "version": "3.8.10"
  }
 },
 "nbformat": 4,
 "nbformat_minor": 4
}
